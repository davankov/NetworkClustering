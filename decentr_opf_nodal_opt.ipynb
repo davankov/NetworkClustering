{
 "cells": [
  {
   "cell_type": "code",
   "execution_count": 1,
   "metadata": {
    "scrolled": true
   },
   "outputs": [],
   "source": [
    "import numpy as np\n",
    "import matplotlib.pyplot as plt\n",
    "from pyomo.environ import *\n",
    "from multiprocessing import Process, Pipe\n",
    "import logging\n",
    "import time\n",
    "#import cmath\n",
    "%matplotlib inline\n",
    "#import networkx as nx"
   ]
  },
  {
   "cell_type": "code",
   "execution_count": 2,
   "metadata": {},
   "outputs": [],
   "source": [
    "def first_step_node(c_0,c_1, c_2, g_ii, b_ii, g_i_row, b_i_row, neigh_e_k, neigh_f_k, neigh_lam_k, neigh_mu_k, P_i_d, Q_i_d, P_i_up, P_i_low, Q_i_up, Q_i_low, V_i_up, V_i_low):\n",
    "    model = ConcreteModel()\n",
    "    model.IDX = range(4)\n",
    "    model.x = Var(model.IDX)\n",
    "    ####%%%%%%%%%%%%%%%%%%%%%%%%%%%%%%%%%%%######\n",
    "    #        x = (P_i_g, Q_i_g, e_i, f_i)^T \n",
    "    ####%%%%%%%%%%%%%%%%%%%%%%%%%%%%%%%%%%%######\n",
    "    #print(model.x[1] *2)\n",
    "    #print(P_i_d + (model.x[2]**2 + model.x[3]**2)*g_ii + model.x[2] * sum(g_i_row * neigh_e_k - b_i_row * neigh_f_k) + \\\n",
    "    #    model.x[3] * sum(g_i_row * neigh_f_k + b_i_row * neigh_e_k))\n",
    "    #Nodal equations constraints\n",
    "    def nodal_eq_P_rule(m):\n",
    "        return P_i_d + (m.x[2]**2 + m.x[3]**2)*g_ii + m.x[2] * sum(g_i_row * neigh_e_k - b_i_row * neigh_f_k) + \\\n",
    "        m.x[3] * sum(g_i_row * neigh_f_k + b_i_row * neigh_e_k) == m.x[0]\n",
    "    model.nodal_eq_P = Constraint(rule=nodal_eq_P_rule)\n",
    "    \n",
    "    def nodal_eq_Q_rule(m):\n",
    "        return m.x[1] == Q_i_d - (m.x[2]**2 + m.x[3]**2)*b_ii + m.x[3] * sum(g_i_row * neigh_e_k - b_i_row * neigh_f_k) - \\\n",
    "        m.x[2] * sum(g_i_row * neigh_f_k + b_i_row * neigh_e_k)\n",
    "    model.nodal_eq_Q = Constraint(rule=nodal_eq_Q_rule)\n",
    "    \n",
    "    \n",
    "    #Limits on variables\n",
    "    def P_up_lim_rule(m):\n",
    "        return m.x[0] <= P_i_up\n",
    "    model.P_up_lim = Constraint(rule=P_up_lim_rule)\n",
    "    def P_low_lim_rule(m):\n",
    "        return m.x[0] >= P_i_low\n",
    "    model.P_low_lim = Constraint(rule=P_low_lim_rule)\n",
    "    \n",
    "    def Q_up_lim_rule(m):\n",
    "        return m.x[1] <= Q_i_up\n",
    "    model.Q_up_lim = Constraint(rule=Q_up_lim_rule)\n",
    "    def Q_low_lim_rule(m):\n",
    "        return m.x[1] >= Q_i_low\n",
    "    model.Q_low_lim = Constraint(rule=Q_low_lim_rule)\n",
    "    \n",
    "    def V_up_lim_rule(m):\n",
    "        return m.x[2]**2 + m.x[3]**2 <= V_i_up\n",
    "    model.V_up_lim = Constraint(rule=V_up_lim_rule)\n",
    "    def V_low_lim_rule(m):\n",
    "        return m.x[2]**2 + m.x[3]**2 >= V_i_low\n",
    "    model.V_low_lim = Constraint(rule=V_low_lim_rule)\n",
    "    \n",
    "    #Objective\n",
    "    def value_rule(m):\n",
    "        dual_vars_len = len(neigh_lam_k)\n",
    "        return c_0 + c_1 * m.x[0] + c_2 * m.x[0] ** 2 + \\\n",
    "        neigh_lam_k.dot( np.ones(dual_vars_len) * m.x[2] - neigh_e_k) + \\\n",
    "        neigh_mu_k.dot( np.ones(dual_vars_len) * m.x[3] - neigh_f_k) + \\\n",
    "        (rho / 2.) * (sum((np.ones(dual_vars_len) * m.x[3] - neigh_f_k) ** 2) + sum((np.ones(dual_vars_len) * m.x[2] - neigh_e_k)**2))\n",
    "    \n",
    "    model.value = Objective(rule=value_rule, sense=minimize)\n",
    "    \n",
    "    SolverFactory('ipopt').solve(model, tee=True)\n",
    "    return np.array([model.x[0].value, model.x[1].value, model.x[2].value, model.x[3].value])"
   ]
  },
  {
   "cell_type": "code",
   "execution_count": 15,
   "metadata": {},
   "outputs": [
    {
     "name": "stdout",
     "output_type": "stream",
     "text": [
      "Ipopt 3.12.12: \n",
      "\n",
      "******************************************************************************\n",
      "This program contains Ipopt, a library for large-scale nonlinear optimization.\n",
      " Ipopt is released as open source code under the Eclipse Public License (EPL).\n",
      "         For more information visit http://projects.coin-or.org/Ipopt\n",
      "******************************************************************************\n",
      "\n",
      "This is Ipopt version 3.12.12, running with linear solver mumps.\n",
      "NOTE: Other linear solvers might be more efficient (see Ipopt documentation).\n",
      "\n",
      "Number of nonzeros in equality constraint Jacobian...:        6\n",
      "Number of nonzeros in inequality constraint Jacobian.:        8\n",
      "Number of nonzeros in Lagrangian Hessian.............:        3\n",
      "\n",
      "Total number of variables............................:        4\n",
      "                     variables with only lower bounds:        0\n",
      "                variables with lower and upper bounds:        0\n",
      "                     variables with only upper bounds:        0\n",
      "Total number of equality constraints.................:        2\n",
      "Total number of inequality constraints...............:        6\n",
      "        inequality constraints with only lower bounds:        3\n",
      "   inequality constraints with lower and upper bounds:        0\n",
      "        inequality constraints with only upper bounds:        3\n",
      "\n",
      "iter    objective    inf_pr   inf_du lg(mu)  ||d||  lg(rg) alpha_du alpha_pr  ls\n",
      "   0  7.0000000e+00 1.00e+00 6.53e-01  -1.0 0.00e+00    -  0.00e+00 0.00e+00   0\n",
      "   1  7.0047730e+00 1.00e+00 1.09e+02  -1.0 1.01e+00    -  1.00e+00 9.80e-03h  1\n",
      "   2  7.0048232e+00 1.00e+00 1.11e+06  -1.0 9.99e-01    -  1.00e+00 9.91e-05h  1\n",
      "   3r 7.0048232e+00 1.00e+00 1.00e+03   0.0 0.00e+00    -  0.00e+00 3.33e-07R  3\n",
      "   4r 7.6165922e+00 9.95e-01 1.00e+03   0.0 9.23e+02    -  6.82e-02 1.06e-03f  1\n",
      "   5r 7.6717868e+00 9.94e-01 9.27e+02   0.0 1.50e-01    -  1.00e+00 7.09e-02f  1\n",
      "   6r 7.9287275e+00 9.00e-01 1.72e+02   0.0 1.31e-01    -  2.30e-01 8.15e-01f  1\n",
      "   7r 7.9591711e+00 9.34e-01 2.06e+01   0.0 1.79e-01    -  1.00e+00 1.00e+00f  1\n",
      "   8r 7.9719228e+00 9.34e-01 1.56e-01  -0.7 4.61e-03    -  1.00e+00 1.00e+00f  1\n",
      "   9r 7.9678133e+00 9.29e-01 1.72e-01  -3.1 2.97e-02    -  9.40e-01 1.00e+00f  1\n",
      "iter    objective    inf_pr   inf_du lg(mu)  ||d||  lg(rg) alpha_du alpha_pr  ls\n",
      "  10r 7.9685417e+00 9.28e-01 8.95e-04  -3.1 9.07e-03    -  1.00e+00 1.00e+00h  1\n",
      "  11r 7.9887739e+00 9.10e-01 5.57e-03  -7.1 9.23e-02    -  8.13e-01 1.00e+00f  1\n",
      "  12r 7.9935328e+00 9.10e-01 3.36e-06  -7.1 1.35e-03    -  1.00e+00 1.00e+00h  1\n",
      "  13r 8.0268000e+00 9.04e-01 6.46e-05  -9.0 5.88e-02    -  8.90e-01 1.00e+00h  1\n",
      "  14r 8.0340608e+00 9.11e-01 1.48e-08  -9.0 6.90e-03    -  1.00e+00 1.00e+00h  1\n",
      "  15r 8.0453366e+00 9.34e-01 8.10e-11  -9.0 2.30e-02    -  1.00e+00 1.00e+00h  1\n",
      "  16r 8.0461869e+00 9.41e-01 2.63e-12  -9.0 7.06e-03    -  1.00e+00 1.00e+00h  1\n",
      "  17r 8.0457798e+00 9.42e-01 2.55e-13  -9.0 8.23e-04    -  1.00e+00 1.00e+00h  1\n",
      "\n",
      "Number of Iterations....: 17\n",
      "\n",
      "                                   (scaled)                 (unscaled)\n",
      "Objective...............:   8.0457692135183727e+00    8.0457692135183727e+00\n",
      "Dual infeasibility......:   1.0597330991348002e+01    1.0597330991348002e+01\n",
      "Constraint violation....:   9.4165069228889686e-01    9.4165069228889686e-01\n",
      "Complementarity.........:   9.0909090909093629e-10    9.0909090909093629e-10\n",
      "Overall NLP error.......:   1.2363552819614194e+00    1.0597330991348002e+01\n",
      "\n",
      "\n",
      "Number of objective function evaluations             = 22\n",
      "Number of objective gradient evaluations             = 5\n",
      "Number of equality constraint evaluations            = 22\n",
      "Number of inequality constraint evaluations          = 22\n",
      "Number of equality constraint Jacobian evaluations   = 20\n",
      "Number of inequality constraint Jacobian evaluations = 20\n",
      "Number of Lagrangian Hessian evaluations             = 18\n",
      "Total CPU secs in IPOPT (w/o function evaluations)   =      0.050\n",
      "Total CPU secs in NLP function evaluations           =      0.001\n",
      "\n",
      "EXIT: Converged to a point of local infeasibility. Problem may be infeasible.\n",
      "\bWARNING: Loading a SolverResults object with a warning status into\n",
      "    model=unknown;\n",
      "        message from solver=Ipopt 3.12.12\\x3a Converged to a locally\n",
      "        infeasible point. Problem may be infeasible.\n"
     ]
    },
    {
     "data": {
      "text/plain": [
       "array([ 0.07168896,  0.0583493 ,  0.20775656, -0.25973388])"
      ]
     },
     "execution_count": 15,
     "metadata": {},
     "output_type": "execute_result"
    }
   ],
   "source": [
    "rho = 5.\n",
    "first_step_node(1., 1., 1., 1., 1.,np.array([1.,1.]), np.array([1.,1.]), np.array([1.,1.]), np.array([1.,1.]), np.array([1.,1.]), np.array([1.,1.]),1.,1.,0.,1.,0.,1.,0.,1.)"
   ]
  },
  {
   "cell_type": "code",
   "execution_count": 16,
   "metadata": {},
   "outputs": [
    {
     "data": {
      "text/plain": [
       "array([4., 5., 6., 7., 8.])"
      ]
     },
     "execution_count": 16,
     "metadata": {},
     "output_type": "execute_result"
    }
   ],
   "source": [
    "range(5)[4] * np.ones(5) + range(5)"
   ]
  },
  {
   "cell_type": "code",
   "execution_count": 3,
   "metadata": {},
   "outputs": [],
   "source": [
    "def second_step_node(g_ii, b_ii, g_i_row, b_i_row, P_i_g_prev, Q_i_g_prev, alpha_i, beta_i, alpha_j, beta_j,  neigh_e_k, neigh_f_k, neigh_lam_k, neigh_mu_k, P_i_d, Q_i_d):\n",
    "    \"\"\"\n",
    "    x - e^i_j vector\n",
    "    y - f^i_j vector\n",
    "    \"\"\"\n",
    "    model = ConcreteModel()\n",
    "    l = len(g_i_row)\n",
    "    model.IDX = range(l)\n",
    "    model.x = Var(model.IDX)\n",
    "    model.y = Var(model.IDX)\n",
    "    ####%%%%%%%%%%%%%%%%%%%%%%%%%%%%%%%%%%%######\n",
    "    #        x = (P_i_g, Q_i_g, e_i, f_i)^T \n",
    "    ####%%%%%%%%%%%%%%%%%%%%%%%%%%%%%%%%%%%######\n",
    "    print(len(model.x))\n",
    "    #Nodal equations constraints\n",
    "    def nodal_eq_P_rule(m):\n",
    "        return P_i_d + (alpha_i**2 + beta_i**2)*g_ii + alpha_i * sum(g_i_row[i] * m.x[i] - b_i_row[i] * m.y[i] for i in range(len(m.x))) + \\\n",
    "        beta_i * sum(g_i_row[i] * m.y[i] + b_i_row[i] * m.x[i] for i in range(len(g_i_row))) == P_i_g_prev\n",
    "    model.nodal_eq_P = Constraint(rule=nodal_eq_P_rule)\n",
    "    \n",
    "    def nodal_eq_Q_rule(m):\n",
    "        return Q_i_g_prev == Q_i_d - (alpha_i**2 + beta_i**2)*b_ii + beta_i * sum(g_i_row[i] * m.x[i] - b_i_row[i] * m.y[i] for i in range(len(b_i_row))) - \\\n",
    "        alpha_i * sum(g_i_row[i] * m.x[i] + b_i_row[i] * m.y[i] for i in range(len(g_i_row)))\n",
    "    model.nodal_eq_Q = Constraint(rule=nodal_eq_Q_rule)\n",
    "    \n",
    "    \n",
    "    \n",
    "    \n",
    "    #Objective\n",
    "    def value_rule(m):\n",
    "        dual_vars_len = len(neigh_lam_k)\n",
    "        return neigh_lam_k.dot(alpha_j - m.x) + neigh_mu_k.dot(beta_j - m.y) + \\\n",
    "        (rho / 2.) * (sum(alpha_j - m.x)**2 + sum(beta_j - m.y)**2)\n",
    "    \n",
    "    model.value = Objective(rule=value_rule, sense=minimize)\n",
    "    \n",
    "    SolverFactory('ipopt').solve(model, tee=True)\n",
    "    res_es = []\n",
    "    for i in range(len(model.x)):\n",
    "        res_es.append(model.x[i].value)\n",
    "    res_fs = []\n",
    "    for i in range(len(model.y)):\n",
    "        res_fs.append(model.y[i].value)\n",
    "    return res_es, res_fs"
   ]
  },
  {
   "cell_type": "code",
   "execution_count": 18,
   "metadata": {
    "scrolled": true
   },
   "outputs": [
    {
     "name": "stdout",
     "output_type": "stream",
     "text": [
      "2\n",
      "Ipopt 3.12.12: \n",
      "\n",
      "******************************************************************************\n",
      "This program contains Ipopt, a library for large-scale nonlinear optimization.\n",
      " Ipopt is released as open source code under the Eclipse Public License (EPL).\n",
      "         For more information visit http://projects.coin-or.org/Ipopt\n",
      "******************************************************************************\n",
      "\n",
      "This is Ipopt version 3.12.12, running with linear solver mumps.\n",
      "NOTE: Other linear solvers might be more efficient (see Ipopt documentation).\n",
      "\n",
      "Number of nonzeros in equality constraint Jacobian...:        8\n",
      "Number of nonzeros in inequality constraint Jacobian.:        0\n",
      "Number of nonzeros in Lagrangian Hessian.............:        0\n",
      "\n",
      "Total number of variables............................:        4\n",
      "                     variables with only lower bounds:        0\n",
      "                variables with lower and upper bounds:        0\n",
      "                     variables with only upper bounds:        0\n",
      "Total number of equality constraints.................:        2\n",
      "Total number of inequality constraints...............:        0\n",
      "        inequality constraints with only lower bounds:        0\n",
      "   inequality constraints with lower and upper bounds:        0\n",
      "        inequality constraints with only upper bounds:        0\n",
      "\n",
      "iter    objective    inf_pr   inf_du lg(mu)  ||d||  lg(rg) alpha_du alpha_pr  ls\n",
      "   0  7.0000000e+00 1.67e+00 0.00e+00  -1.0 0.00e+00    -  0.00e+00 0.00e+00   0\n",
      "   1  7.0000000e+00 1.11e-16 4.92e-05  -1.0 4.92e-01  -4.0 1.00e+00 1.00e+00h  1\n",
      "   2  7.0000000e+00 1.11e-16 1.02e-20  -5.7 8.64e-17  -4.5 1.00e+00 1.00e+00   0\n",
      "\n",
      "Number of Iterations....: 2\n",
      "\n",
      "                                   (scaled)                 (unscaled)\n",
      "Objective...............:   7.0000000000000000e+00    7.0000000000000000e+00\n",
      "Dual infeasibility......:   1.0164395367051604e-20    1.0164395367051604e-20\n",
      "Constraint violation....:   1.1102230246251565e-16    1.1102230246251565e-16\n",
      "Complementarity.........:   0.0000000000000000e+00    0.0000000000000000e+00\n",
      "Overall NLP error.......:   1.1102230246251565e-16    1.1102230246251565e-16\n",
      "\n",
      "\n",
      "Number of objective function evaluations             = 3\n",
      "Number of objective gradient evaluations             = 3\n",
      "Number of equality constraint evaluations            = 3\n",
      "Number of inequality constraint evaluations          = 0\n",
      "Number of equality constraint Jacobian evaluations   = 3\n",
      "Number of inequality constraint Jacobian evaluations = 0\n",
      "Number of Lagrangian Hessian evaluations             = 2\n",
      "Total CPU secs in IPOPT (w/o function evaluations)   =      0.005\n",
      "Total CPU secs in NLP function evaluations           =      0.000\n",
      "\n",
      "EXIT: Optimal Solution Found.\n",
      "\b"
     ]
    },
    {
     "data": {
      "text/plain": [
       "([-0.49230769230769234, -0.49230769230769234],\n",
       " [-0.3217948717948718, -0.3217948717948717])"
      ]
     },
     "execution_count": 18,
     "metadata": {},
     "output_type": "execute_result"
    }
   ],
   "source": [
    "rho = 5.\n",
    "second_step_node(1., 1., np.array([1.,1.]), np.array([1.,1.]), 0.5, 0.5, 0.6, 0.9, np.array([1.,1.]), np.array([1.,1.]), np.array([1.,1.]), np.array([1.,1.]), np.array([1.,1.]), np.array([1.,1.]), 1., 1.)\n"
   ]
  },
  {
   "cell_type": "code",
   "execution_count": 4,
   "metadata": {},
   "outputs": [],
   "source": [
    "def third_step_node(neigh_lam_k, neigh_mu_k, neigh_e_j_rec, neigh_f_j_rec, neigh_e_j, neigh_f_j):\n",
    "    neigh_lam_k_next = neigh_lam_k + rho * (neigh_e_j_rec - neigh_e_j)\n",
    "    neigh_mu_k_next = neigh_mu_k + rho * (neigh_f_j_rec - neigh_f_j)\n",
    "    return (neigh_lam_k_next, neigh_mu_k_next)"
   ]
  },
  {
   "cell_type": "code",
   "execution_count": 20,
   "metadata": {},
   "outputs": [
    {
     "data": {
      "text/plain": [
       "1.0"
      ]
     },
     "execution_count": 20,
     "metadata": {},
     "output_type": "execute_result"
    }
   ],
   "source": [
    "(1 + 1j).imag"
   ]
  },
  {
   "cell_type": "code",
   "execution_count": 21,
   "metadata": {},
   "outputs": [],
   "source": [
    "test_Y = np.array([\n",
    "    [1 + 1j, 1 - 0.8j],\n",
    "    [1 - 0.8j, 1 + 0.5j]\n",
    "])"
   ]
  },
  {
   "cell_type": "code",
   "execution_count": 22,
   "metadata": {},
   "outputs": [],
   "source": [
    "test_G = test_Y.real\n",
    "test_B = test_Y.imag"
   ]
  },
  {
   "cell_type": "code",
   "execution_count": 23,
   "metadata": {},
   "outputs": [
    {
     "data": {
      "text/plain": [
       "array([3., 4.])"
      ]
     },
     "execution_count": 23,
     "metadata": {},
     "output_type": "execute_result"
    }
   ],
   "source": [
    "test_costs = np.array([\n",
    "    [1., 2.],\n",
    "    [3.,4.],\n",
    "    [5.,6.]\n",
    "])\n",
    "test_costs[1,:]"
   ]
  },
  {
   "cell_type": "code",
   "execution_count": 24,
   "metadata": {},
   "outputs": [
    {
     "data": {
      "text/plain": [
       "2"
      ]
     },
     "execution_count": 24,
     "metadata": {},
     "output_type": "execute_result"
    }
   ],
   "source": [
    "len(test_Y)"
   ]
  },
  {
   "cell_type": "code",
   "execution_count": 25,
   "metadata": {},
   "outputs": [
    {
     "name": "stdout",
     "output_type": "stream",
     "text": [
      "[1.e+00 1.e-10 2.e+00]\n"
     ]
    }
   ],
   "source": [
    "def get_non_zero_el_subvec(a):\n",
    "    tmp = []\n",
    "    for el in a:\n",
    "        if el != 0:\n",
    "            tmp.append(el)\n",
    "    return np.array(tmp)\n",
    "\n",
    "test_a = [1., 0., 1e-10, 2]\n",
    "print(get_non_zero_el_subvec(test_a))"
   ]
  },
  {
   "cell_type": "code",
   "execution_count": 5,
   "metadata": {},
   "outputs": [],
   "source": [
    "def get_neigh_numbers(i, Y):\n",
    "    res = []\n",
    "    for j in range(len(Y)):\n",
    "        if (Y[i,j] and i != j) != 0:\n",
    "            res.append(j)\n",
    "    return res\n",
    "def get_non_zero_el_nums(a):\n",
    "    res =[]\n",
    "    for i in range(len(a)):\n",
    "        if a[i] != 0:\n",
    "            res.append(i)\n",
    "    return res"
   ]
  },
  {
   "cell_type": "code",
   "execution_count": 39,
   "metadata": {},
   "outputs": [
    {
     "data": {
      "text/plain": [
       "2"
      ]
     },
     "execution_count": 39,
     "metadata": {},
     "output_type": "execute_result"
    }
   ],
   "source": [
    "test_listl = []\n",
    "test_listl.append([1,2])\n",
    "test_listl.append([1,2])\n",
    "test_listl[1][1]"
   ]
  },
  {
   "cell_type": "code",
   "execution_count": 7,
   "metadata": {},
   "outputs": [],
   "source": [
    "def get_inc_matrix(Y):\n",
    "    pipe_conns = np.zeros((len(Y), len(Y)))\n",
    "    for i in range(len(Y)):\n",
    "        for j in range(len(Y)):\n",
    "            if (j >= i):\n",
    "                pipe_conns[i,j] = Y[i,j]\n",
    "    print(pipe_conns)\n",
    "    Inc = []\n",
    "    for i in range(len(Y)):\n",
    "        for j in range(len(Y)):\n",
    "            if ((i != j) and (pipe_conns[i,j] != 0)):\n",
    "                tmp = np.zeros(len(Y))\n",
    "                tmp[i] = -1\n",
    "                tmp[j] = 1\n",
    "                Inc.append(tmp)\n",
    "                \n",
    "        \n",
    "    return np.array(Inc)"
   ]
  },
  {
   "cell_type": "code",
   "execution_count": 82,
   "metadata": {},
   "outputs": [
    {
     "name": "stdout",
     "output_type": "stream",
     "text": [
      "[[1. 2. 1.]\n",
      " [0. 1. 3.]\n",
      " [0. 0. 1.]]\n",
      "[[-1.  1.  0.]\n",
      " [-1.  0.  1.]\n",
      " [ 0. -1.  1.]]\n"
     ]
    }
   ],
   "source": [
    "\n",
    "testY = np.array([\n",
    "    [1, 2, 1],\n",
    "    [2, 1, 3],\n",
    "    [1, 3, 1]\n",
    "])\n",
    "print(get_inc_matrix(testY))"
   ]
  },
  {
   "cell_type": "code",
   "execution_count": 84,
   "metadata": {},
   "outputs": [],
   "source": [
    "def get_pipes(Y):\n",
    "    pipe_par = []\n",
    "    pipe_child = []\n",
    "    inc = get_inc_matrix(Y)\n",
    "    for i in range(len(Y)):\n",
    "        pipe_par.append([])\n",
    "        pipe_child.append([])\n",
    "    \n",
    "    for i in range(inc.shape[0]):\n",
    "        nums = get_non_zero_el_nums(inc[i])\n",
    "        parent, child = Pipe()\n",
    "        pipe_par[nums[0]].append(parent)\n",
    "        pipe_child[nums[1]].append(child)\n",
    "            \n",
    "    \n",
    "    return (pipe_par, pipe_child)"
   ]
  },
  {
   "cell_type": "code",
   "execution_count": 28,
   "metadata": {},
   "outputs": [
    {
     "ename": "SyntaxError",
     "evalue": "invalid syntax (<ipython-input-28-f1596afc43f4>, line 1)",
     "output_type": "error",
     "traceback": [
      "\u001b[0;36m  File \u001b[0;32m\"<ipython-input-28-f1596afc43f4>\"\u001b[0;36m, line \u001b[0;32m1\u001b[0m\n\u001b[0;31m    def fully_decentr_opf(costs, G, B, P_d, Q_d, P_up, P_low, Q_up, Q_low, V_up, V_low)\u001b[0m\n\u001b[0m                                                                                       ^\u001b[0m\n\u001b[0;31mSyntaxError\u001b[0m\u001b[0;31m:\u001b[0m invalid syntax\n"
     ]
    }
   ],
   "source": [
    "def fully_decentr_opf(costs, G, B, P_d, Q_d, P_up, P_low, Q_up, Q_low, V_up, V_low, iter_num=300)\n",
    "    logging.basicConfig(level=logging.DEBUG,\n",
    "                        format='%(asctime)s (%(threadName)-2s) %(message)s',\n",
    "                        )\n",
    "    def node_first(c_0_i, c_1_i, c_2_i, g_ii, b_ii, g_i_row, b_i_row, neigh_e_k, neigh_f_k, neigh_lam_k, neigh_mu_k, P_i_d, Q_i_d, P_i_up, P_i_low, Q_i_up, Q_i_low, V_i_up, V_i_low):\n",
    "        res = first_step_node(c_0_i, c_1_i, c_2_i, g_ii, b_ii, g_i_row, b_i_row, neigh_e_k, neigh_f_k, neigh_lam_k, neigh_mu_k, P_i_d, Q_i_d, P_i_up, P_i_low, Q_i_up, Q_i_low, V_i_up, V_i_low)\n",
    "        return res\n",
    "    def node_second(g_ii, b_ii, g_i_row, b_i_row, P_i_g_prev, Q_i_g_prev, alpha_i, beta_i, alpha_j, beta_j,  neigh_e_k, neigh_f_k, neigh_lam_k, neigh_mu_k, P_i_d, Q_i_d):\n",
    "        res = second_step_node(g_ii, b_ii, g_i_row, b_i_row, P_i_g_prev, Q_i_g_prev, alpha_i, beta_i, alpha_j, beta_j,  neigh_e_k, neigh_f_k, neigh_lam_k, neigh_mu_k, P_i_d, Q_i_d)\n",
    "        return res\n",
    "    def node_third(neigh_lam_k, neigh_mu_k, neigh_e_j_rec, neigh_f_j_rec, neigh_e_j, neigh_f_j):\n",
    "        res = third_step_node(neigh_lam_k, neigh_mu_k, neigh_e_j_rec, neigh_f_j_rec, neigh_e_j, neigh_f_j)\n",
    "        return res\n",
    "    \n",
    "    \n",
    "    def run(par_pipes, child_pipes, c_0_i, c_1_i, c_2_i, g_ii, b_ii, g_i_row, b_i_row, neigh_e_k, neigh_f_k, neigh_lam_k, neigh_mu_k, P_i_d, Q_i_d, P_i_up, P_i_low, Q_i_up, Q_i_low, V_i_up, V_i_low):\n",
    "        # barrier here\n",
    "        for j in range(iter_num):\n",
    "            res1 = first_step_node(c_0_i, c_1_i, c_2_i, g_ii, b_ii, g_i_row, b_i_row, neigh_e_k, neigh_f_k, neigh_lam_k, neigh_mu_k, P_i_d, Q_i_d, P_i_up, P_i_low, Q_i_up, Q_i_low, V_i_up, V_i_low)\n",
    "            #barrier here\n",
    "            \n",
    "        \n",
    "    if __name__ == '__main__':\n",
    "        num_proc = len(Y)\n",
    "        parent_pipes, child_pipes = get_pipes(Y)\n",
    "        \n",
    "        for i in range(num_proc):\n",
    "            c_0_i = costs[i,0]\n",
    "            c_1_i = costs[i,1]\n",
    "            c_2_i = costs[i,2]\n",
    "            g_ii  = G[i,i]\n",
    "            b_ii  = B[i,i]\n",
    "\n",
    "            g_i_row = get_non_zero_el_subvec(G[i,:])\n",
    "            b_i_row = get_non_zero_el_subvec(B[i,:])\n",
    "\n",
    "            P_i_d   = P_d[i]\n",
    "            Q_i_d   = Q_d[i]\n",
    "\n",
    "            P_i_up    = P_up[i]\n",
    "            P_i_low   = P_low[i]\n",
    "\n",
    "            Q_i_up    = Q_up[i]\n",
    "            Q_i_low   = Q_low[i]\n",
    "\n",
    "            V_i_up    = V_up[i]\n",
    "            V_i_low   = V_low[i]\n",
    "            \n",
    "\n",
    "            # initial guesses\n",
    "            P_i_g = 1.\n",
    "            Q_i_g = 1.\n",
    "            e_i   = 1.\n",
    "            f_i   = 1.\n",
    "            neigh_e_k = np.ones(len(g_i_row))\n",
    "            neigh_f_k = np.ones(len(g_i_row))\n",
    "            neigh_lam_k = np.ones(len(g_i_row))\n",
    "            neigh_mu_k = np.ones(len(g_i_row))\n",
    "            \n",
    "            \n",
    "            p = Process(target=run, args=(parent_pipes[i], child_pipes[i],par_pipes, child_pipes, c_0_i, c_1_i, c_2_i, g_ii, b_ii, g_i_row, b_i_row, neigh_e_k, neigh_f_k, neigh_lam_k, neigh_mu_k, P_i_d, Q_i_d, P_i_up, P_i_low, Q_i_up, Q_i_low, V_i_up, V_i_low,))\n",
    "            p.start()    \n",
    "            \n",
    "            \n"
   ]
  },
  {
   "cell_type": "code",
   "execution_count": 23,
   "metadata": {},
   "outputs": [
    {
     "data": {
      "text/plain": [
       "[1.0, 1.0, 1.0]"
      ]
     },
     "execution_count": 23,
     "metadata": {},
     "output_type": "execute_result"
    }
   ],
   "source": [
    "list(np.ones(3))"
   ]
  },
  {
   "cell_type": "code",
   "execution_count": 33,
   "metadata": {
    "scrolled": true
   },
   "outputs": [
    {
     "name": "stdout",
     "output_type": "stream",
     "text": [
      "[42, None, 'hello']\n",
      "[425, None, 'hello']\n"
     ]
    }
   ],
   "source": [
    "from multiprocessing import Process, Pipe\n",
    "\n",
    "def f(conn):\n",
    "    conn.send([42, None, 'hello'])\n",
    "    for i in range(100):\n",
    "        pass\n",
    "    conn.send([425, None, 'hello'])\n",
    "    conn.close()\n",
    "    \n",
    "if __name__ == '__main__':\n",
    "    parent_conn, child_conn = Pipe()\n",
    "    p = Process(target=f, args=(child_conn,))\n",
    "    p.start()\n",
    "    print(parent_conn.recv())   # prints \"[42, None, 'hello']\"\n",
    "    print(parent_conn.recv()) \n",
    "    p.join()"
   ]
  },
  {
   "cell_type": "code",
   "execution_count": null,
   "metadata": {},
   "outputs": [],
   "source": []
  }
 ],
 "metadata": {
  "kernelspec": {
   "display_name": "Python 3",
   "language": "python",
   "name": "python3"
  },
  "language_info": {
   "codemirror_mode": {
    "name": "ipython",
    "version": 3
   },
   "file_extension": ".py",
   "mimetype": "text/x-python",
   "name": "python",
   "nbconvert_exporter": "python",
   "pygments_lexer": "ipython3",
   "version": "3.7.1"
  }
 },
 "nbformat": 4,
 "nbformat_minor": 2
}
