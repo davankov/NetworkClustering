{
 "cells": [
  {
   "cell_type": "code",
   "execution_count": 1,
   "metadata": {},
   "outputs": [],
   "source": [
    "using JuMP\n",
    "# using Interact # used for enabling the slider\n",
    "# using Gadfly\n",
    "# using Ipopt\n",
    "using GLPK"
   ]
  },
  {
   "cell_type": "code",
   "execution_count": 2,
   "metadata": {},
   "outputs": [],
   "source": [
    "using GLPKMathProgInterface"
   ]
  },
  {
   "cell_type": "code",
   "execution_count": 3,
   "metadata": {
    "scrolled": true
   },
   "outputs": [
    {
     "name": "stdout",
     "output_type": "stream",
     "text": [
      "\u001b[32m\u001b[1m    Status\u001b[22m\u001b[39m `~/.julia/Project.toml`\n",
      " \u001b[90m [a076750e]\u001b[39m\u001b[37m CPLEX v0.4.3\u001b[39m\n",
      " \u001b[90m [9961bab8]\u001b[39m\u001b[37m Cbc v0.4.4\u001b[39m\n",
      " \u001b[90m [aaaa29a8]\u001b[39m\u001b[37m Clustering v0.12.2\u001b[39m\n",
      " \u001b[90m [60bf3e95]\u001b[39m\u001b[37m GLPK v0.9.1\u001b[39m\n",
      " \u001b[90m [3c7084bd]\u001b[39m\u001b[37m GLPKMathProgInterface v0.4.4\u001b[39m\n",
      " \u001b[90m [c91e804a]\u001b[39m\u001b[37m Gadfly v1.0.1\u001b[39m\n",
      " \u001b[90m [c601a237]\u001b[39m\u001b[37m Interact v0.9.0\u001b[39m\n",
      " \u001b[90m [b6b21f68]\u001b[39m\u001b[37m Ipopt v0.4.5\u001b[39m\n",
      " \u001b[90m [4076af6c]\u001b[39m\u001b[37m JuMP v0.18.5\u001b[39m\n"
     ]
    }
   ],
   "source": [
    "using Pkg\n",
    "Pkg.status()"
   ]
  },
  {
   "cell_type": "code",
   "execution_count": 4,
   "metadata": {},
   "outputs": [],
   "source": [
    "predictions = [1, 0, 2, 1, 1, 2, 2, 0, 1] + ones(9);"
   ]
  },
  {
   "cell_type": "code",
   "execution_count": 26,
   "metadata": {},
   "outputs": [
    {
     "data": {
      "text/plain": [
       "9-element Array{Float64,1}:\n",
       " 2.0\n",
       " 1.0\n",
       " 3.0\n",
       " 2.0\n",
       " 2.0\n",
       " 3.0\n",
       " 3.0\n",
       " 1.0\n",
       " 2.0"
      ]
     },
     "execution_count": 26,
     "metadata": {},
     "output_type": "execute_result"
    }
   ],
   "source": [
    "predictions"
   ]
  },
  {
   "cell_type": "code",
   "execution_count": 5,
   "metadata": {},
   "outputs": [
    {
     "data": {
      "text/plain": [
       "9-element Array{Float64,1}:\n",
       " 0.04229166666666667 \n",
       " 0.0417625           \n",
       " 0.024754166666666664\n",
       " 0.044345833333333334\n",
       " 0.02324166666666667 \n",
       " 0.07328333333333333 \n",
       " 0.04852083333333334 \n",
       " 0.0212625           \n",
       " 0.10289583333333334 "
      ]
     },
     "execution_count": 5,
     "metadata": {},
     "output_type": "execute_result"
    }
   ],
   "source": [
    "means = [0.04229166666666667\n",
    " 0.0417625\n",
    " 0.024754166666666664 \n",
    " 0.044345833333333334\n",
    " 0.02324166666666667\n",
    " 0.07328333333333333\n",
    " 0.04852083333333334\n",
    " 0.0212625\n",
    " 0.10289583333333334]"
   ]
  },
  {
   "cell_type": "code",
   "execution_count": 6,
   "metadata": {},
   "outputs": [
    {
     "data": {
      "text/plain": [
       "9-element Array{Float64,1}:\n",
       "  42.29166666666667 \n",
       "  41.7625           \n",
       "  24.754166666666663\n",
       "  44.34583333333333 \n",
       "  23.24166666666667 \n",
       "  73.28333333333333 \n",
       "  48.52083333333334 \n",
       "  21.2625           \n",
       " 102.89583333333334 "
      ]
     },
     "execution_count": 6,
     "metadata": {},
     "output_type": "execute_result"
    }
   ],
   "source": [
    "means *= 1000"
   ]
  },
  {
   "cell_type": "code",
   "execution_count": 7,
   "metadata": {},
   "outputs": [],
   "source": [
    "# # Define some input data about the test system\n",
    "# # Maximum power output of generators\n",
    "# const g_max = [1000,1000];\n",
    "# # Minimum power output of generators\n",
    "# const g_min = [0,300];\n",
    "# # Incremental cost of generators \n",
    "# const c_g = [50,100];\n",
    "# # Fixed cost of generators\n",
    "# const c_g0 = [1000,0]\n",
    "# # Incremental cost of wind generators\n",
    "# const c_w = 50;\n",
    "# # Total demand\n",
    "# const d = 1500;\n",
    "# # Wind forecast\n",
    "# const w_f = 200;"
   ]
  },
  {
   "cell_type": "code",
   "execution_count": 77,
   "metadata": {},
   "outputs": [
    {
     "data": {
      "text/plain": [
       "9-element Array{Float64,1}:\n",
       "  42.29166666666667 \n",
       "  41.7625           \n",
       "  24.754166666666663\n",
       "  44.34583333333333 \n",
       "  23.24166666666667 \n",
       "  73.28333333333333 \n",
       "  48.52083333333334 \n",
       "  21.2625           \n",
       " 102.89583333333334 "
      ]
     },
     "execution_count": 77,
     "metadata": {},
     "output_type": "execute_result"
    }
   ],
   "source": [
    "g_max"
   ]
  },
  {
   "cell_type": "code",
   "execution_count": 81,
   "metadata": {},
   "outputs": [],
   "source": [
    "# Define some input data about the test system\n",
    "# Maximum power output of generators\n",
    "g_max = means;\n",
    "# Minimum power output of generators\n",
    "# g_min = zeros(9);\n",
    "g_min =  [10,10, 10, 10, 20, 10, 20, 20, 60];\n",
    "# Incremental cost of generators \n",
    "c_g = [50,100, 30, 20, 30, 70, 60, 45, 30];\n",
    "# Fixed cost of generators\n",
    "# c_g0 = [1000,0, 1300, 1500, 1400, 600, 400, 500, 1000]\n",
    "c_g0 = zeros(9)\n",
    "# Incremental cost of wind generators\n",
    "c_w = 50;\n",
    "# Total demand\n",
    "d = 350;\n",
    "# Wind forecast\n",
    "w_f = 200;"
   ]
  },
  {
   "cell_type": "code",
   "execution_count": null,
   "metadata": {},
   "outputs": [],
   "source": []
  },
  {
   "cell_type": "code",
   "execution_count": 82,
   "metadata": {},
   "outputs": [
    {
     "data": {
      "text/plain": [
       "100"
      ]
     },
     "execution_count": 82,
     "metadata": {},
     "output_type": "execute_result"
    }
   ],
   "source": [
    "d1 = 50\n",
    "d2 = 200\n",
    "d3 = 100"
   ]
  },
  {
   "cell_type": "code",
   "execution_count": 83,
   "metadata": {},
   "outputs": [
    {
     "data": {
      "text/plain": [
       "solve_ed (generic function with 1 method)"
      ]
     },
     "execution_count": 83,
     "metadata": {},
     "output_type": "execute_result"
    }
   ],
   "source": [
    "function solve_ed(g_max, g_min, c_g, c_w, d, w_f)\n",
    "    #Define the economic dispatch (ED) model\n",
    "    ed=Model(solver=Ipopt.IpoptSolver()) \n",
    "    \n",
    "    # Define decision variables    \n",
    "    @variable(ed, 0 <= g[i=1:size(g_max)[1]] <= g_max[i]) # power output of generators\n",
    "    @variable(ed, 0 <= w  <= w_f ) # wind power injection\n",
    "\n",
    "    # Define the objective function\n",
    "    @objective(ed,Min,sum{c_g[i] * g[i],i=1:size(g_max)[1]}+ c_w * w)\n",
    "\n",
    "    # Define the constraint on the maximum and minimum power output of each generator\n",
    "    for i in 1:2\n",
    "        @constraint(ed,  g[i] <= g_max[i]) #maximum\n",
    "        @constraint(ed,  g[i] >= g_min[i]) #minimum\n",
    "    end\n",
    "\n",
    "    # Define the constraint on the wind power injection\n",
    "    @constraint(ed, w <= w_f)\n",
    "\n",
    "    # Define the power balance constraint\n",
    "    @constraint(ed, sum{g[i], i=1:size(g_max)[1]} + w == d)\n",
    "\n",
    "    # Solve statement\n",
    "    solve(ed)\n",
    "    \n",
    "    # return the optimal value of the objective function and its minimizers\n",
    "    return getValue(g), getValue(w), w_f-getValue(w), getObjectiveValue(ed)\n",
    "end"
   ]
  },
  {
   "cell_type": "code",
   "execution_count": 85,
   "metadata": {},
   "outputs": [
    {
     "data": {
      "text/plain": [
       "solve_uc (generic function with 1 method)"
      ]
     },
     "execution_count": 85,
     "metadata": {},
     "output_type": "execute_result"
    }
   ],
   "source": [
    "function solve_uc(g_max, g_min, c_g, c_w, d, w_f)\n",
    "    #Define the unit commitment (UC) model\n",
    "    uc=Model(solver=GLPKSolverMIP()) \n",
    "    \n",
    "    # Define decision variables    \n",
    "    @variable(uc, 0 <= g[i=1:9] <= g_max[i]) # power output of generators\n",
    "    @variable(uc, u[i=1:9], Bin) # Binary status of generators\n",
    "    @variable(uc, 0 <= w  <= w_f ) # wind power injection\n",
    "\n",
    "    # Define the objective function\n",
    "    @objective(uc,Min,sum{c_g[i] * g[i],i=1:9})\n",
    "\n",
    "    # Define the constraint on the maximum and minimum power output of each generator\n",
    "    for i in 1:9\n",
    "        @constraint(uc,  g[i] <= g_max[i] * u[i]) #maximum\n",
    "        @constraint(uc,  g[i] >= g_min[i] * u[i]) #minimum\n",
    "    end\n",
    "\n",
    "    # Define the constraint on the wind power injection\n",
    "    @constraint(uc, w <= w_f)\n",
    "\n",
    "    # Define the power balance constraint\n",
    "    @constraint(uc, sum{g[i], i=1:9} == d)\n",
    "\n",
    "    # Solve statement\n",
    "    status = solve(uc)\n",
    "    \n",
    "    return status, getValue(g), getValue(w), w_f-getValue(w), getValue(u), getObjectiveValue(uc)\n",
    "end\n",
    "\n",
    "# Solve the economic dispatch problem\n"
   ]
  },
  {
   "cell_type": "code",
   "execution_count": 87,
   "metadata": {
    "scrolled": true
   },
   "outputs": [
    {
     "name": "stdout",
     "output_type": "stream",
     "text": [
      "\n",
      "\n",
      "Dispatch of Generators: [42.2917, 0.0, 24.7542, 44.3458, 23.2417, 42.6875, 48.5208, 21.2625, 102.896] MW\n",
      "Commitments of Generators: [1.0, 0.0, 1.0, 1.0, 1.0, 1.0, 1.0, 1.0, 1.0]\n",
      "Dispatch of Wind: 0.0 MW\n",
      "Wind spillage: 200.0 MW\n",
      "\n",
      "\n",
      "Total cost: 14384.4375$\n"
     ]
    }
   ],
   "source": [
    "status,g_opt,w_opt,ws_opt,u_opt,obj=solve_uc(g_max, g_min, c_g, c_w, d, w_f);\n",
    "\n",
    "  \n",
    "println(\"\\n\")\n",
    "println(\"Dispatch of Generators: \", g_opt[:], \" MW\")\n",
    "println(\"Commitments of Generators: \", u_opt[:])\n",
    "println(\"Dispatch of Wind: \", w_opt, \" MW\")\n",
    "println(\"Wind spillage: \", w_f-w_opt, \" MW\") \n",
    "println(\"\\n\")\n",
    "println(\"Total cost: \", obj, \"\\$\")"
   ]
  },
  {
   "cell_type": "code",
   "execution_count": 88,
   "metadata": {},
   "outputs": [
    {
     "data": {
      "text/plain": [
       "solve_uc_decenter (generic function with 1 method)"
      ]
     },
     "execution_count": 88,
     "metadata": {},
     "output_type": "execute_result"
    }
   ],
   "source": [
    "function solve_uc_decenter(g_max, g_min, c_g, c_w, d, w_f)\n",
    "    #Define the unit commitment (UC) model\n",
    "    uc=Model(solver=GLPKSolverMIP()) \n",
    "    \n",
    "    # Define decision variables    \n",
    "    @variable(uc, 0 <= g[i=1:9] <= g_max[i]) # power output of generators\n",
    "    @variable(uc, u[i=1:9], Bin) # Binary status of generators\n",
    "    @variable(uc, 0 <= w  <= w_f ) # wind power injection\n",
    "\n",
    "    # Define the objective function\n",
    "    1, 4,5, 9\n",
    "    @objective(uc,Min,sum{c_g[i] * g[i],i=1:9})\n",
    "\n",
    "    # Define the constraint on the maximum and minimum power output of each generator\n",
    "    for i in 1:9\n",
    "        @constraint(uc,  g[i] <= g_max[i] * u[i]) #maximum\n",
    "        @constraint(uc,  g[i] >= g_min[i] * u[i]) #minimum\n",
    "    end\n",
    "\n",
    "    # Define the constraint on the wind power injection\n",
    "    @constraint(uc, w <= w_f)\n",
    "\n",
    "    # Define the power balance constraint\n",
    "    @constraint(uc, sum{g[i], i=[2, 8]} == d1)\n",
    "    @constraint(uc, sum{g[i], i=[1,4,5,9]} == d2)\n",
    "    @constraint(uc, sum{g[i], i=[3,6,7]} == d3)\n",
    "    # Solve statement\n",
    "    status = solve(uc)\n",
    "    \n",
    "    return status, getValue(g), getValue(w), w_f-getValue(w), getValue(u), getObjectiveValue(uc)\n",
    "end\n",
    "\n",
    "# Solve the economic dispatch problem\n"
   ]
  },
  {
   "cell_type": "code",
   "execution_count": 89,
   "metadata": {},
   "outputs": [
    {
     "name": "stdout",
     "output_type": "stream",
     "text": [
      "\n",
      "\n",
      "Dispatch of Generators: [29.5167, 28.7375, 24.7542, 44.3458, 23.2417, 26.725, 48.5208, 21.2625, 102.896] MW\n",
      "Commitments of Generators: [1.0, 1.0, 1.0, 1.0, 1.0, 1.0, 1.0, 1.0, 1.0]\n",
      "Dispatch of Wind: 0.0 MW\n",
      "Wind spillage: 200.0 MW\n",
      "\n",
      "\n",
      "Total cost: 15502.0625$\n"
     ]
    }
   ],
   "source": [
    "status,g_opt,w_opt,ws_opt,u_opt,obj=solve_uc_decenter(g_max, g_min, c_g, c_w, d, w_f);\n",
    "\n",
    "  \n",
    "println(\"\\n\")\n",
    "println(\"Dispatch of Generators: \", g_opt[:], \" MW\")\n",
    "println(\"Commitments of Generators: \", u_opt[:])\n",
    "println(\"Dispatch of Wind: \", w_opt, \" MW\")\n",
    "println(\"Wind spillage: \", w_f-w_opt, \" MW\") \n",
    "println(\"\\n\")\n",
    "println(\"Total cost: \", obj, \"\\$\")"
   ]
  }
 ],
 "metadata": {
  "kernelspec": {
   "display_name": "Julia 1.0.3 (4 threads)",
   "language": "julia",
   "name": "julia-1.0k"
  },
  "language_info": {
   "file_extension": ".jl",
   "mimetype": "application/julia",
   "name": "julia",
   "version": "1.0.3"
  }
 },
 "nbformat": 4,
 "nbformat_minor": 2
}
