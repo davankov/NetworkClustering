{
 "cells": [
  {
   "cell_type": "code",
   "execution_count": 42,
   "metadata": {},
   "outputs": [],
   "source": [
    "%matplotlib inline\n",
    "import numpy as np\n",
    "import pandas as pd\n",
    "import networkx as nx\n",
    "import seaborn as sns\n",
    "from sklearn.cluster import KMeans"
   ]
  },
  {
   "cell_type": "code",
   "execution_count": 6,
   "metadata": {},
   "outputs": [],
   "source": [
    "%run modules.ipynb"
   ]
  },
  {
   "cell_type": "code",
   "execution_count": 270,
   "metadata": {
    "scrolled": true
   },
   "outputs": [
    {
     "data": {
      "image/png": "[encoded data removed]",
      "text/plain": [
       "<Figure size 432x288 with 1 Axes>"
      ]
     },
     "metadata": {
      "needs_background": "light"
     },
     "output_type": "display_data"
    }
   ],
   "source": [
    "G = nx.fast_gnp_random_graph(9, 0.3)\n",
    "graph = nx.to_numpy_array(G)\n",
    "nx.draw_networkx(G)\n",
    "adj = nx.to_numpy_array(G)\n",
    "# consensus(adj, dd[:,:100,:], 3, method=1)"
   ]
  },
  {
   "cell_type": "code",
   "execution_count": 271,
   "metadata": {},
   "outputs": [
    {
     "data": {
      "text/plain": [
       "{0: array([0.2495772, 1.       ]),\n",
       " 1: array([ 0.42354294, -0.12612263]),\n",
       " 2: array([ 0.02033967, -0.65806488]),\n",
       " 3: array([0.24971883, 0.41964025]),\n",
       " 4: array([-0.07987697,  0.6354102 ]),\n",
       " 5: array([ 0.56008535, -0.69561069]),\n",
       " 6: array([-0.83546343,  0.0649331 ]),\n",
       " 7: array([-0.16272951, -0.03356502]),\n",
       " 8: array([-0.42519408, -0.60662033])}"
      ]
     },
     "execution_count": 271,
     "metadata": {},
     "output_type": "execute_result"
    }
   ],
   "source": [
    "nx.spring_layout(G)"
   ]
  },
  {
   "cell_type": "code",
   "execution_count": 272,
   "metadata": {},
   "outputs": [
    {
     "data": {
      "text/plain": [
       "(9, 9)"
      ]
     },
     "execution_count": 272,
     "metadata": {},
     "output_type": "execute_result"
    }
   ],
   "source": [
    "adj.shape"
   ]
  },
  {
   "cell_type": "code",
   "execution_count": 273,
   "metadata": {},
   "outputs": [],
   "source": [
    "wind_time = pd.read_csv(\"RE-Europe_dataset_package/Nodal_TS/wind_signal_COSMO.csv\")"
   ]
  },
  {
   "cell_type": "code",
   "execution_count": 306,
   "metadata": {},
   "outputs": [
    {
     "name": "stdout",
     "output_type": "stream",
     "text": [
      "0\n"
     ]
    }
   ],
   "source": [
    "consensus_matrix = consensus(adj, wind_time.iloc[:24*20, :10], 3, method=0, data_format=\"pandas\", show=True)"
   ]
  },
  {
   "cell_type": "code",
   "execution_count": 307,
   "metadata": {},
   "outputs": [
    {
     "data": {
      "image/png": "[encoded data removed]",
      "text/plain": [
       "<Figure size 432x288 with 2 Axes>"
      ]
     },
     "metadata": {
      "needs_background": "light"
     },
     "output_type": "display_data"
    }
   ],
   "source": [
    "ax = sns.heatmap(consensus_matrix, linewidth=0.5)\n",
    "plt.show()\n"
   ]
  },
  {
   "cell_type": "code",
   "execution_count": 308,
   "metadata": {},
   "outputs": [
    {
     "data": {
      "image/png": "[encoded data removed]",
      "text/plain": [
       "<Figure size 432x288 with 1 Axes>"
      ]
     },
     "metadata": {
      "needs_background": "light"
     },
     "output_type": "display_data"
    }
   ],
   "source": [
    "plt.imshow(consensus_matrix, cmap='hot', interpolation='nearest')\n",
    "plt.show()"
   ]
  },
  {
   "cell_type": "code",
   "execution_count": 309,
   "metadata": {},
   "outputs": [],
   "source": [
    "hist, bins = np.histogram(consensus_matrix.ravel(), density=True)"
   ]
  },
  {
   "cell_type": "code",
   "execution_count": 310,
   "metadata": {},
   "outputs": [],
   "source": [
    "clsrt = KMeans(n_clusters=3)"
   ]
  },
  {
   "cell_type": "code",
   "execution_count": 311,
   "metadata": {},
   "outputs": [],
   "source": [
    "predictions = clsrt.fit_predict(consensus_matrix)"
   ]
  },
  {
   "cell_type": "code",
   "execution_count": 312,
   "metadata": {},
   "outputs": [
    {
     "data": {
      "text/html": [
       "<script type=\"text/javascript\">window.PlotlyConfig = {MathJaxConfig: 'local'};</script><script type=\"text/javascript\">if (window.MathJax) {MathJax.Hub.Config({SVG: {font: \"STIX-Web\"}});}</script><script>requirejs.config({paths: { 'plotly': ['https://cdn.plot.ly/plotly-latest.min']},});if(!window._Plotly) {require(['plotly'],function(plotly) {window._Plotly=plotly;});}</script>"
      ],
      "text/vnd.plotly.v1+html": [
       "<script type=\"text/javascript\">window.PlotlyConfig = {MathJaxConfig: 'local'};</script><script type=\"text/javascript\">if (window.MathJax) {MathJax.Hub.Config({SVG: {font: \"STIX-Web\"}});}</script><script>requirejs.config({paths: { 'plotly': ['https://cdn.plot.ly/plotly-latest.min']},});if(!window._Plotly) {require(['plotly'],function(plotly) {window._Plotly=plotly;});}</script>"
      ]
     },
     "metadata": {},
     "output_type": "display_data"
    }
   ],
   "source": [
    "from plotly.offline import download_plotlyjs, init_notebook_mode, plot,iplot\n",
    "import plotly.graph_objs as go\n",
    "import plotly.plotly as py\n",
    "import colorlover as cl\n",
    "\n",
    "init_notebook_mode(connected=True)"
   ]
  },
  {
   "cell_type": "code",
   "execution_count": 313,
   "metadata": {},
   "outputs": [],
   "source": [
    "# G=nx.random_geometric_graph(10,0.125)\n",
    "# pos = pos=nx.get_node_attributes(G,'pos')"
   ]
  },
  {
   "cell_type": "code",
   "execution_count": 314,
   "metadata": {},
   "outputs": [],
   "source": [
    "\n",
    "pos = nx.spring_layout(G)"
   ]
  },
  {
   "cell_type": "code",
   "execution_count": 315,
   "metadata": {},
   "outputs": [],
   "source": [
    "for key in pos.keys():\n",
    "    G.node[key]['pos'] = pos[key]"
   ]
  },
  {
   "cell_type": "code",
   "execution_count": 316,
   "metadata": {},
   "outputs": [],
   "source": [
    "# pos=nx.get_node_attributes(G,'pos')\n",
    "\n",
    "dmin=1\n",
    "ncenter=0\n",
    "for n in pos:\n",
    "    x,y=pos[n]\n",
    "    d=(x-0.5)**2+(y-0.5)**2\n",
    "    if d<dmin:\n",
    "        ncenter=n\n",
    "        dmin=d"
   ]
  },
  {
   "cell_type": "code",
   "execution_count": 317,
   "metadata": {},
   "outputs": [],
   "source": [
    "edge_trace = go.Scatter(\n",
    "    x=[],\n",
    "    y=[],\n",
    "    line=dict(width=0.5,color='#888'),\n",
    "    hoverinfo='none',\n",
    "    mode='lines')\n",
    "\n",
    "for edge in G.edges():\n",
    "    x0, y0 = G.node[edge[0]]['pos']\n",
    "    x1, y1 = G.node[edge[1]]['pos']\n",
    "    edge_trace['x'] += tuple([x0, x1, None])\n",
    "    edge_trace['y'] += tuple([y0, y1, None])\n",
    "\n",
    "node_trace = go.Scatter(\n",
    "    x=[],\n",
    "    y=[],\n",
    "    text=[],\n",
    "    mode='markers',\n",
    "    hoverinfo='text',\n",
    "    marker=dict(\n",
    "        showscale=True,\n",
    "        # colorscale options\n",
    "        #'Greys' | 'YlGnBu' | 'Greens' | 'YlOrRd' | 'Bluered' | 'RdBu' |\n",
    "        #'Reds' | 'Blues' | 'Picnic' | 'Rainbow' | 'Portland' | 'Jet' |\n",
    "        #'Hot' | 'Blackbody' | 'Earth' | 'Electric' | 'Viridis' |\n",
    "        colorscale='Hot',\n",
    "        reversescale=True,\n",
    "        color=[],\n",
    "        size=10,\n",
    "        colorbar=dict(\n",
    "            thickness=15,\n",
    "            title='Node Connections',\n",
    "            xanchor='left',\n",
    "            titleside='right'\n",
    "        ),\n",
    "        line=dict(width=2)))\n",
    "\n",
    "for node in G.nodes():\n",
    "    x, y = G.node[node]['pos']\n",
    "    node_trace['x'] += tuple([x])\n",
    "    node_trace['y'] += tuple([y])"
   ]
  },
  {
   "cell_type": "code",
   "execution_count": 318,
   "metadata": {},
   "outputs": [],
   "source": [
    "for node, adjacencies in enumerate(G.adjacency()):\n",
    "    node_trace['marker']['color']+=tuple([np.exp(predictions[node])])\n",
    "    node_info = 'cluster: '+str(predictions[node]) + \" node: \" + str(node)\n",
    "    node_trace['text']+=tuple([node_info]) "
   ]
  },
  {
   "cell_type": "code",
   "execution_count": 319,
   "metadata": {},
   "outputs": [
    {
     "data": {
      "application/vnd.plotly.v1+json": {
       "config": {
        "linkText": "Export to plot.ly",
        "plotlyServerURL": "https://plot.ly",
        "showLink": false
       },
       "data": [
        {
         "hoverinfo": "none",
         "line": {
          "color": "#888",
          "width": 0.5
         },
         "mode": "lines",
         "type": "scatter",
         "uid": "1b3fbc49-ab8b-45dc-8e81-fa826e778c4c",
         "x": [
          1,
          0.5211404823652703,
          null,
          1,
          0.47695185812269697,
          null,
          0.1804197191198304,
          0.5211404823652703,
          null,
          0.1804197191198304,
          -0.20090025712608894,
          null,
          0.1804197191198304,
          -0.13969473828030027,
          null,
          -0.5349579541569665,
          -0.20090025712608894,
          null,
          -0.5349579541569665,
          -0.13969473828030027,
          null,
          -0.5349579541569665,
          -0.7917555731688889,
          null,
          0.5211404823652703,
          0.47695185812269697,
          null,
          0.5211404823652703,
          -0.13969473828030027,
          null,
          0.47695185812269697,
          -0.13969473828030027,
          null,
          -0.5112035368755531,
          -0.13969473828030027,
          null,
          -0.13969473828030027,
          -0.7917555731688889,
          null
         ],
         "y": [
          -0.46733547980522,
          -0.07731212838284776,
          null,
          -0.46733547980522,
          -0.4983862159288536,
          null,
          0.44193418281437113,
          -0.07731212838284776,
          null,
          0.44193418281437113,
          0.9384225144494365,
          null,
          0.44193418281437113,
          -0.11324791554164608,
          null,
          0.4607279074902697,
          0.9384225144494365,
          null,
          0.4607279074902697,
          -0.11324791554164608,
          null,
          0.4607279074902697,
          0.057579452344886525,
          null,
          -0.07731212838284776,
          -0.4983862159288536,
          null,
          -0.07731212838284776,
          -0.11324791554164608,
          null,
          -0.4983862159288536,
          -0.11324791554164608,
          null,
          -0.7423823174403968,
          -0.11324791554164608,
          null,
          -0.11324791554164608,
          0.057579452344886525,
          null
         ]
        },
        {
         "hoverinfo": "text",
         "marker": {
          "color": [
           2.718281828459045,
           7.38905609893065,
           1,
           2.718281828459045,
           2.718281828459045,
           7.38905609893065,
           1,
           1,
           1
          ],
          "colorbar": {
           "thickness": 15,
           "title": {
            "side": "right",
            "text": "Node Connections"
           },
           "xanchor": "left"
          },
          "colorscale": "Hot",
          "line": {
           "width": 2
          },
          "reversescale": true,
          "showscale": true,
          "size": 10
         },
         "mode": "markers",
         "text": [
          "cluster: 1 node: 0",
          "cluster: 2 node: 1",
          "cluster: 0 node: 2",
          "cluster: 1 node: 3",
          "cluster: 1 node: 4",
          "cluster: 2 node: 5",
          "cluster: 0 node: 6",
          "cluster: 0 node: 7",
          "cluster: 0 node: 8"
         ],
         "type": "scatter",
         "uid": "eb9bfebc-b7b5-425a-abb7-660c772f2f8e",
         "x": [
          1,
          0.1804197191198304,
          -0.5349579541569665,
          0.5211404823652703,
          0.47695185812269697,
          -0.20090025712608894,
          -0.5112035368755531,
          -0.13969473828030027,
          -0.7917555731688889
         ],
         "y": [
          -0.46733547980522,
          0.44193418281437113,
          0.4607279074902697,
          -0.07731212838284776,
          -0.4983862159288536,
          0.9384225144494365,
          -0.7423823174403968,
          -0.11324791554164608,
          0.057579452344886525
         ]
        }
       ],
       "layout": {
        "annotations": [
         {
          "showarrow": false,
          "text": "",
          "x": 0.005,
          "xref": "paper",
          "y": -0.002,
          "yref": "paper"
         }
        ],
        "hovermode": "closest",
        "margin": {
         "b": 20,
         "l": 5,
         "r": 5,
         "t": 40
        },
        "showlegend": false,
        "title": {
         "font": {
          "size": 16
         },
         "text": "<br>RE dataset"
        },
        "xaxis": {
         "showgrid": false,
         "showticklabels": false,
         "zeroline": false
        },
        "yaxis": {
         "showgrid": false,
         "showticklabels": false,
         "zeroline": false
        }
       }
      },
      "text/html": [
       "<div id=\"6dd09fd2-57bf-4e28-bbd2-76bebfd97c76\" style=\"height: 525px; width: 100%;\" class=\"plotly-graph-div\"></div><script type=\"text/javascript\">require([\"plotly\"], function(Plotly) { window.PLOTLYENV=window.PLOTLYENV || {};window.PLOTLYENV.BASE_URL=\"https://plot.ly\";Plotly.newPlot(\"6dd09fd2-57bf-4e28-bbd2-76bebfd97c76\", [{\"hoverinfo\": \"none\", \"line\": {\"color\": \"#888\", \"width\": 0.5}, \"mode\": \"lines\", \"x\": [1.0, 0.5211404823652703, null, 1.0, 0.47695185812269697, null, 0.1804197191198304, 0.5211404823652703, null, 0.1804197191198304, -0.20090025712608894, null, 0.1804197191198304, -0.13969473828030027, null, -0.5349579541569665, -0.20090025712608894, null, -0.5349579541569665, -0.13969473828030027, null, -0.5349579541569665, -0.7917555731688889, null, 0.5211404823652703, 0.47695185812269697, null, 0.5211404823652703, -0.13969473828030027, null, 0.47695185812269697, -0.13969473828030027, null, -0.5112035368755531, -0.13969473828030027, null, -0.13969473828030027, -0.7917555731688889, null], \"y\": [-0.46733547980522, -0.07731212838284776, null, -0.46733547980522, -0.4983862159288536, null, 0.44193418281437113, -0.07731212838284776, null, 0.44193418281437113, 0.9384225144494365, null, 0.44193418281437113, -0.11324791554164608, null, 0.4607279074902697, 0.9384225144494365, null, 0.4607279074902697, -0.11324791554164608, null, 0.4607279074902697, 0.057579452344886525, null, -0.07731212838284776, -0.4983862159288536, null, -0.07731212838284776, -0.11324791554164608, null, -0.4983862159288536, -0.11324791554164608, null, -0.7423823174403968, -0.11324791554164608, null, -0.11324791554164608, 0.057579452344886525, null], \"type\": \"scatter\", \"uid\": \"1b3fbc49-ab8b-45dc-8e81-fa826e778c4c\"}, {\"hoverinfo\": \"text\", \"marker\": {\"color\": [2.718281828459045, 7.38905609893065, 1.0, 2.718281828459045, 2.718281828459045, 7.38905609893065, 1.0, 1.0, 1.0], \"colorbar\": {\"thickness\": 15, \"title\": {\"side\": \"right\", \"text\": \"Node Connections\"}, \"xanchor\": \"left\"}, \"colorscale\": \"Hot\", \"line\": {\"width\": 2}, \"reversescale\": true, \"showscale\": true, \"size\": 10}, \"mode\": \"markers\", \"text\": [\"cluster: 1 node: 0\", \"cluster: 2 node: 1\", \"cluster: 0 node: 2\", \"cluster: 1 node: 3\", \"cluster: 1 node: 4\", \"cluster: 2 node: 5\", \"cluster: 0 node: 6\", \"cluster: 0 node: 7\", \"cluster: 0 node: 8\"], \"x\": [1.0, 0.1804197191198304, -0.5349579541569665, 0.5211404823652703, 0.47695185812269697, -0.20090025712608894, -0.5112035368755531, -0.13969473828030027, -0.7917555731688889], \"y\": [-0.46733547980522, 0.44193418281437113, 0.4607279074902697, -0.07731212838284776, -0.4983862159288536, 0.9384225144494365, -0.7423823174403968, -0.11324791554164608, 0.057579452344886525], \"type\": \"scatter\", \"uid\": \"eb9bfebc-b7b5-425a-abb7-660c772f2f8e\"}], {\"annotations\": [{\"showarrow\": false, \"text\": \"\", \"x\": 0.005, \"xref\": \"paper\", \"y\": -0.002, \"yref\": \"paper\"}], \"hovermode\": \"closest\", \"margin\": {\"b\": 20, \"l\": 5, \"r\": 5, \"t\": 40}, \"showlegend\": false, \"title\": {\"font\": {\"size\": 16}, \"text\": \"<br>RE dataset\"}, \"xaxis\": {\"showgrid\": false, \"showticklabels\": false, \"zeroline\": false}, \"yaxis\": {\"showgrid\": false, \"showticklabels\": false, \"zeroline\": false}}, {\"showLink\": false, \"linkText\": \"Export to plot.ly\", \"plotlyServerURL\": \"https://plot.ly\"})});</script><script type=\"text/javascript\">window.addEventListener(\"resize\", function(){window._Plotly.Plots.resize(document.getElementById(\"6dd09fd2-57bf-4e28-bbd2-76bebfd97c76\"));});</script>"
      ],
      "text/vnd.plotly.v1+html": [
       "<div id=\"6dd09fd2-57bf-4e28-bbd2-76bebfd97c76\" style=\"height: 525px; width: 100%;\" class=\"plotly-graph-div\"></div><script type=\"text/javascript\">require([\"plotly\"], function(Plotly) { window.PLOTLYENV=window.PLOTLYENV || {};window.PLOTLYENV.BASE_URL=\"https://plot.ly\";Plotly.newPlot(\"6dd09fd2-57bf-4e28-bbd2-76bebfd97c76\", [{\"hoverinfo\": \"none\", \"line\": {\"color\": \"#888\", \"width\": 0.5}, \"mode\": \"lines\", \"x\": [1.0, 0.5211404823652703, null, 1.0, 0.47695185812269697, null, 0.1804197191198304, 0.5211404823652703, null, 0.1804197191198304, -0.20090025712608894, null, 0.1804197191198304, -0.13969473828030027, null, -0.5349579541569665, -0.20090025712608894, null, -0.5349579541569665, -0.13969473828030027, null, -0.5349579541569665, -0.7917555731688889, null, 0.5211404823652703, 0.47695185812269697, null, 0.5211404823652703, -0.13969473828030027, null, 0.47695185812269697, -0.13969473828030027, null, -0.5112035368755531, -0.13969473828030027, null, -0.13969473828030027, -0.7917555731688889, null], \"y\": [-0.46733547980522, -0.07731212838284776, null, -0.46733547980522, -0.4983862159288536, null, 0.44193418281437113, -0.07731212838284776, null, 0.44193418281437113, 0.9384225144494365, null, 0.44193418281437113, -0.11324791554164608, null, 0.4607279074902697, 0.9384225144494365, null, 0.4607279074902697, -0.11324791554164608, null, 0.4607279074902697, 0.057579452344886525, null, -0.07731212838284776, -0.4983862159288536, null, -0.07731212838284776, -0.11324791554164608, null, -0.4983862159288536, -0.11324791554164608, null, -0.7423823174403968, -0.11324791554164608, null, -0.11324791554164608, 0.057579452344886525, null], \"type\": \"scatter\", \"uid\": \"1b3fbc49-ab8b-45dc-8e81-fa826e778c4c\"}, {\"hoverinfo\": \"text\", \"marker\": {\"color\": [2.718281828459045, 7.38905609893065, 1.0, 2.718281828459045, 2.718281828459045, 7.38905609893065, 1.0, 1.0, 1.0], \"colorbar\": {\"thickness\": 15, \"title\": {\"side\": \"right\", \"text\": \"Node Connections\"}, \"xanchor\": \"left\"}, \"colorscale\": \"Hot\", \"line\": {\"width\": 2}, \"reversescale\": true, \"showscale\": true, \"size\": 10}, \"mode\": \"markers\", \"text\": [\"cluster: 1 node: 0\", \"cluster: 2 node: 1\", \"cluster: 0 node: 2\", \"cluster: 1 node: 3\", \"cluster: 1 node: 4\", \"cluster: 2 node: 5\", \"cluster: 0 node: 6\", \"cluster: 0 node: 7\", \"cluster: 0 node: 8\"], \"x\": [1.0, 0.1804197191198304, -0.5349579541569665, 0.5211404823652703, 0.47695185812269697, -0.20090025712608894, -0.5112035368755531, -0.13969473828030027, -0.7917555731688889], \"y\": [-0.46733547980522, 0.44193418281437113, 0.4607279074902697, -0.07731212838284776, -0.4983862159288536, 0.9384225144494365, -0.7423823174403968, -0.11324791554164608, 0.057579452344886525], \"type\": \"scatter\", \"uid\": \"eb9bfebc-b7b5-425a-abb7-660c772f2f8e\"}], {\"annotations\": [{\"showarrow\": false, \"text\": \"\", \"x\": 0.005, \"xref\": \"paper\", \"y\": -0.002, \"yref\": \"paper\"}], \"hovermode\": \"closest\", \"margin\": {\"b\": 20, \"l\": 5, \"r\": 5, \"t\": 40}, \"showlegend\": false, \"title\": {\"font\": {\"size\": 16}, \"text\": \"<br>RE dataset\"}, \"xaxis\": {\"showgrid\": false, \"showticklabels\": false, \"zeroline\": false}, \"yaxis\": {\"showgrid\": false, \"showticklabels\": false, \"zeroline\": false}}, {\"showLink\": false, \"linkText\": \"Export to plot.ly\", \"plotlyServerURL\": \"https://plot.ly\"})});</script><script type=\"text/javascript\">window.addEventListener(\"resize\", function(){window._Plotly.Plots.resize(document.getElementById(\"6dd09fd2-57bf-4e28-bbd2-76bebfd97c76\"));});</script>"
      ]
     },
     "metadata": {},
     "output_type": "display_data"
    }
   ],
   "source": [
    "fig = go.Figure(data=[edge_trace, node_trace],\n",
    "             layout=go.Layout(\n",
    "                title='<br>RE dataset',\n",
    "                titlefont=dict(size=16),\n",
    "                showlegend=False,\n",
    "                hovermode='closest',\n",
    "                margin=dict(b=20,l=5,r=5,t=40),\n",
    "                annotations=[ dict(\n",
    "                    text=\"\",\n",
    "                    showarrow=False,\n",
    "                    xref=\"paper\", yref=\"paper\",\n",
    "                    x=0.005, y=-0.002 ) ],\n",
    "                xaxis=dict(showgrid=False, zeroline=False, showticklabels=False),\n",
    "                yaxis=dict(showgrid=False, zeroline=False, showticklabels=False)))\n",
    "\n",
    "iplot(fig, filename='networkx')"
   ]
  },
  {
   "cell_type": "markdown",
   "metadata": {},
   "source": [
    "# Experiments with 9 bus"
   ]
  },
  {
   "cell_type": "code",
   "execution_count": 321,
   "metadata": {},
   "outputs": [],
   "source": [
    "bus = pd.read_csv(\"9_buses/bus_9.csv\")"
   ]
  },
  {
   "cell_type": "code",
   "execution_count": 325,
   "metadata": {},
   "outputs": [
    {
     "data": {
      "text/html": [
       "<div>\n",
       "<style scoped>\n",
       "    .dataframe tbody tr th:only-of-type {\n",
       "        vertical-align: middle;\n",
       "    }\n",
       "\n",
       "    .dataframe tbody tr th {\n",
       "        vertical-align: top;\n",
       "    }\n",
       "\n",
       "    .dataframe thead th {\n",
       "        text-align: right;\n",
       "    }\n",
       "</style>\n",
       "<table border=\"1\" class=\"dataframe\">\n",
       "  <thead>\n",
       "    <tr style=\"text-align: right;\">\n",
       "      <th></th>\n",
       "      <th>bus_i</th>\n",
       "      <th>type</th>\n",
       "      <th>Pd</th>\n",
       "      <th>Qd</th>\n",
       "      <th>Gs</th>\n",
       "      <th>Bs</th>\n",
       "      <th>area</th>\n",
       "      <th>Vm</th>\n",
       "      <th>Va</th>\n",
       "      <th>baseKV</th>\n",
       "      <th>zone</th>\n",
       "      <th>Vmax</th>\n",
       "      <th>Vmin</th>\n",
       "    </tr>\n",
       "  </thead>\n",
       "  <tbody>\n",
       "    <tr>\n",
       "      <th>0</th>\n",
       "      <td>1</td>\n",
       "      <td>3</td>\n",
       "      <td>0</td>\n",
       "      <td>0</td>\n",
       "      <td>0</td>\n",
       "      <td>0</td>\n",
       "      <td>1</td>\n",
       "      <td>1</td>\n",
       "      <td>0</td>\n",
       "      <td>345</td>\n",
       "      <td>1</td>\n",
       "      <td>1.1</td>\n",
       "      <td>0.9</td>\n",
       "    </tr>\n",
       "    <tr>\n",
       "      <th>1</th>\n",
       "      <td>2</td>\n",
       "      <td>2</td>\n",
       "      <td>0</td>\n",
       "      <td>0</td>\n",
       "      <td>0</td>\n",
       "      <td>0</td>\n",
       "      <td>1</td>\n",
       "      <td>1</td>\n",
       "      <td>0</td>\n",
       "      <td>345</td>\n",
       "      <td>1</td>\n",
       "      <td>1.1</td>\n",
       "      <td>0.9</td>\n",
       "    </tr>\n",
       "    <tr>\n",
       "      <th>2</th>\n",
       "      <td>3</td>\n",
       "      <td>2</td>\n",
       "      <td>0</td>\n",
       "      <td>0</td>\n",
       "      <td>0</td>\n",
       "      <td>0</td>\n",
       "      <td>1</td>\n",
       "      <td>1</td>\n",
       "      <td>0</td>\n",
       "      <td>345</td>\n",
       "      <td>1</td>\n",
       "      <td>1.1</td>\n",
       "      <td>0.9</td>\n",
       "    </tr>\n",
       "    <tr>\n",
       "      <th>3</th>\n",
       "      <td>4</td>\n",
       "      <td>1</td>\n",
       "      <td>0</td>\n",
       "      <td>0</td>\n",
       "      <td>0</td>\n",
       "      <td>0</td>\n",
       "      <td>1</td>\n",
       "      <td>1</td>\n",
       "      <td>0</td>\n",
       "      <td>345</td>\n",
       "      <td>1</td>\n",
       "      <td>1.1</td>\n",
       "      <td>0.9</td>\n",
       "    </tr>\n",
       "    <tr>\n",
       "      <th>4</th>\n",
       "      <td>5</td>\n",
       "      <td>1</td>\n",
       "      <td>90</td>\n",
       "      <td>30</td>\n",
       "      <td>0</td>\n",
       "      <td>0</td>\n",
       "      <td>1</td>\n",
       "      <td>1</td>\n",
       "      <td>0</td>\n",
       "      <td>345</td>\n",
       "      <td>1</td>\n",
       "      <td>1.1</td>\n",
       "      <td>0.9</td>\n",
       "    </tr>\n",
       "    <tr>\n",
       "      <th>5</th>\n",
       "      <td>6</td>\n",
       "      <td>1</td>\n",
       "      <td>0</td>\n",
       "      <td>0</td>\n",
       "      <td>0</td>\n",
       "      <td>0</td>\n",
       "      <td>1</td>\n",
       "      <td>1</td>\n",
       "      <td>0</td>\n",
       "      <td>345</td>\n",
       "      <td>1</td>\n",
       "      <td>1.1</td>\n",
       "      <td>0.9</td>\n",
       "    </tr>\n",
       "    <tr>\n",
       "      <th>6</th>\n",
       "      <td>7</td>\n",
       "      <td>1</td>\n",
       "      <td>100</td>\n",
       "      <td>35</td>\n",
       "      <td>0</td>\n",
       "      <td>0</td>\n",
       "      <td>1</td>\n",
       "      <td>1</td>\n",
       "      <td>0</td>\n",
       "      <td>345</td>\n",
       "      <td>1</td>\n",
       "      <td>1.1</td>\n",
       "      <td>0.9</td>\n",
       "    </tr>\n",
       "    <tr>\n",
       "      <th>7</th>\n",
       "      <td>8</td>\n",
       "      <td>1</td>\n",
       "      <td>0</td>\n",
       "      <td>0</td>\n",
       "      <td>0</td>\n",
       "      <td>0</td>\n",
       "      <td>1</td>\n",
       "      <td>1</td>\n",
       "      <td>0</td>\n",
       "      <td>345</td>\n",
       "      <td>1</td>\n",
       "      <td>1.1</td>\n",
       "      <td>0.9</td>\n",
       "    </tr>\n",
       "    <tr>\n",
       "      <th>8</th>\n",
       "      <td>9</td>\n",
       "      <td>1</td>\n",
       "      <td>125</td>\n",
       "      <td>50</td>\n",
       "      <td>0</td>\n",
       "      <td>0</td>\n",
       "      <td>1</td>\n",
       "      <td>1</td>\n",
       "      <td>0</td>\n",
       "      <td>345</td>\n",
       "      <td>1</td>\n",
       "      <td>1.1</td>\n",
       "      <td>0.9</td>\n",
       "    </tr>\n",
       "  </tbody>\n",
       "</table>\n",
       "</div>"
      ],
      "text/plain": [
       "   bus_i  type   Pd  Qd  Gs  Bs  area  Vm  Va  baseKV  zone  Vmax  Vmin\n",
       "0      1     3    0   0   0   0     1   1   0     345     1   1.1   0.9\n",
       "1      2     2    0   0   0   0     1   1   0     345     1   1.1   0.9\n",
       "2      3     2    0   0   0   0     1   1   0     345     1   1.1   0.9\n",
       "3      4     1    0   0   0   0     1   1   0     345     1   1.1   0.9\n",
       "4      5     1   90  30   0   0     1   1   0     345     1   1.1   0.9\n",
       "5      6     1    0   0   0   0     1   1   0     345     1   1.1   0.9\n",
       "6      7     1  100  35   0   0     1   1   0     345     1   1.1   0.9\n",
       "7      8     1    0   0   0   0     1   1   0     345     1   1.1   0.9\n",
       "8      9     1  125  50   0   0     1   1   0     345     1   1.1   0.9"
      ]
     },
     "execution_count": 325,
     "metadata": {},
     "output_type": "execute_result"
    }
   ],
   "source": [
    "bus"
   ]
  },
  {
   "cell_type": "code",
   "execution_count": 323,
   "metadata": {},
   "outputs": [],
   "source": [
    "branch = pd.read_csv(\"9_buses/branch_9.csv\")"
   ]
  },
  {
   "cell_type": "code",
   "execution_count": 324,
   "metadata": {
    "scrolled": true
   },
   "outputs": [
    {
     "data": {
      "text/html": [
       "<div>\n",
       "<style scoped>\n",
       "    .dataframe tbody tr th:only-of-type {\n",
       "        vertical-align: middle;\n",
       "    }\n",
       "\n",
       "    .dataframe tbody tr th {\n",
       "        vertical-align: top;\n",
       "    }\n",
       "\n",
       "    .dataframe thead th {\n",
       "        text-align: right;\n",
       "    }\n",
       "</style>\n",
       "<table border=\"1\" class=\"dataframe\">\n",
       "  <thead>\n",
       "    <tr style=\"text-align: right;\">\n",
       "      <th></th>\n",
       "      <th>fbus</th>\n",
       "      <th>tbus</th>\n",
       "      <th>r</th>\n",
       "      <th>x</th>\n",
       "      <th>b</th>\n",
       "      <th>rateA</th>\n",
       "      <th>rateB</th>\n",
       "      <th>rateC</th>\n",
       "      <th>ratio</th>\n",
       "      <th>angle</th>\n",
       "      <th>status</th>\n",
       "      <th>angmin</th>\n",
       "      <th>angmax</th>\n",
       "    </tr>\n",
       "  </thead>\n",
       "  <tbody>\n",
       "    <tr>\n",
       "      <th>0</th>\n",
       "      <td>1</td>\n",
       "      <td>4</td>\n",
       "      <td>0.0000</td>\n",
       "      <td>0.0576</td>\n",
       "      <td>0.000</td>\n",
       "      <td>250</td>\n",
       "      <td>250</td>\n",
       "      <td>250</td>\n",
       "      <td>0</td>\n",
       "      <td>0</td>\n",
       "      <td>1</td>\n",
       "      <td>-360</td>\n",
       "      <td>360</td>\n",
       "    </tr>\n",
       "    <tr>\n",
       "      <th>1</th>\n",
       "      <td>4</td>\n",
       "      <td>5</td>\n",
       "      <td>0.0170</td>\n",
       "      <td>0.0920</td>\n",
       "      <td>0.158</td>\n",
       "      <td>250</td>\n",
       "      <td>250</td>\n",
       "      <td>250</td>\n",
       "      <td>0</td>\n",
       "      <td>0</td>\n",
       "      <td>1</td>\n",
       "      <td>-360</td>\n",
       "      <td>360</td>\n",
       "    </tr>\n",
       "    <tr>\n",
       "      <th>2</th>\n",
       "      <td>5</td>\n",
       "      <td>6</td>\n",
       "      <td>0.0390</td>\n",
       "      <td>0.1700</td>\n",
       "      <td>0.358</td>\n",
       "      <td>150</td>\n",
       "      <td>150</td>\n",
       "      <td>150</td>\n",
       "      <td>0</td>\n",
       "      <td>0</td>\n",
       "      <td>1</td>\n",
       "      <td>-360</td>\n",
       "      <td>360</td>\n",
       "    </tr>\n",
       "    <tr>\n",
       "      <th>3</th>\n",
       "      <td>3</td>\n",
       "      <td>6</td>\n",
       "      <td>0.0000</td>\n",
       "      <td>0.0586</td>\n",
       "      <td>0.000</td>\n",
       "      <td>300</td>\n",
       "      <td>300</td>\n",
       "      <td>300</td>\n",
       "      <td>0</td>\n",
       "      <td>0</td>\n",
       "      <td>1</td>\n",
       "      <td>-360</td>\n",
       "      <td>360</td>\n",
       "    </tr>\n",
       "    <tr>\n",
       "      <th>4</th>\n",
       "      <td>6</td>\n",
       "      <td>7</td>\n",
       "      <td>0.0119</td>\n",
       "      <td>0.1008</td>\n",
       "      <td>0.209</td>\n",
       "      <td>150</td>\n",
       "      <td>150</td>\n",
       "      <td>150</td>\n",
       "      <td>0</td>\n",
       "      <td>0</td>\n",
       "      <td>1</td>\n",
       "      <td>-360</td>\n",
       "      <td>360</td>\n",
       "    </tr>\n",
       "    <tr>\n",
       "      <th>5</th>\n",
       "      <td>7</td>\n",
       "      <td>8</td>\n",
       "      <td>0.0085</td>\n",
       "      <td>0.0720</td>\n",
       "      <td>0.149</td>\n",
       "      <td>250</td>\n",
       "      <td>250</td>\n",
       "      <td>250</td>\n",
       "      <td>0</td>\n",
       "      <td>0</td>\n",
       "      <td>1</td>\n",
       "      <td>-360</td>\n",
       "      <td>360</td>\n",
       "    </tr>\n",
       "    <tr>\n",
       "      <th>6</th>\n",
       "      <td>8</td>\n",
       "      <td>2</td>\n",
       "      <td>0.0000</td>\n",
       "      <td>0.0625</td>\n",
       "      <td>0.000</td>\n",
       "      <td>250</td>\n",
       "      <td>250</td>\n",
       "      <td>250</td>\n",
       "      <td>0</td>\n",
       "      <td>0</td>\n",
       "      <td>1</td>\n",
       "      <td>-360</td>\n",
       "      <td>360</td>\n",
       "    </tr>\n",
       "    <tr>\n",
       "      <th>7</th>\n",
       "      <td>8</td>\n",
       "      <td>9</td>\n",
       "      <td>0.0320</td>\n",
       "      <td>0.1610</td>\n",
       "      <td>0.306</td>\n",
       "      <td>250</td>\n",
       "      <td>250</td>\n",
       "      <td>250</td>\n",
       "      <td>0</td>\n",
       "      <td>0</td>\n",
       "      <td>1</td>\n",
       "      <td>-360</td>\n",
       "      <td>360</td>\n",
       "    </tr>\n",
       "    <tr>\n",
       "      <th>8</th>\n",
       "      <td>9</td>\n",
       "      <td>4</td>\n",
       "      <td>0.0100</td>\n",
       "      <td>0.0850</td>\n",
       "      <td>0.176</td>\n",
       "      <td>250</td>\n",
       "      <td>250</td>\n",
       "      <td>250</td>\n",
       "      <td>0</td>\n",
       "      <td>0</td>\n",
       "      <td>1</td>\n",
       "      <td>-360</td>\n",
       "      <td>360</td>\n",
       "    </tr>\n",
       "  </tbody>\n",
       "</table>\n",
       "</div>"
      ],
      "text/plain": [
       "   fbus  tbus       r       x      b  rateA  rateB  rateC  ratio  angle  \\\n",
       "0     1     4  0.0000  0.0576  0.000    250    250    250      0      0   \n",
       "1     4     5  0.0170  0.0920  0.158    250    250    250      0      0   \n",
       "2     5     6  0.0390  0.1700  0.358    150    150    150      0      0   \n",
       "3     3     6  0.0000  0.0586  0.000    300    300    300      0      0   \n",
       "4     6     7  0.0119  0.1008  0.209    150    150    150      0      0   \n",
       "5     7     8  0.0085  0.0720  0.149    250    250    250      0      0   \n",
       "6     8     2  0.0000  0.0625  0.000    250    250    250      0      0   \n",
       "7     8     9  0.0320  0.1610  0.306    250    250    250      0      0   \n",
       "8     9     4  0.0100  0.0850  0.176    250    250    250      0      0   \n",
       "\n",
       "   status  angmin  angmax  \n",
       "0       1    -360     360  \n",
       "1       1    -360     360  \n",
       "2       1    -360     360  \n",
       "3       1    -360     360  \n",
       "4       1    -360     360  \n",
       "5       1    -360     360  \n",
       "6       1    -360     360  \n",
       "7       1    -360     360  \n",
       "8       1    -360     360  "
      ]
     },
     "execution_count": 324,
     "metadata": {},
     "output_type": "execute_result"
    }
   ],
   "source": [
    "branch"
   ]
  },
  {
   "cell_type": "code",
   "execution_count": 326,
   "metadata": {},
   "outputs": [],
   "source": [
    "net = nx.Graph()"
   ]
  },
  {
   "cell_type": "code",
   "execution_count": 327,
   "metadata": {},
   "outputs": [],
   "source": [
    "for node in bus.bus_i:\n",
    "    net.add_node(node)\n",
    "for i, row in branch.iterrows():\n",
    "    net.add_edge(int(row.fbus), int(row.tbus)) "
   ]
  },
  {
   "cell_type": "code",
   "execution_count": 333,
   "metadata": {},
   "outputs": [],
   "source": [
    "wind_sample = wind_time.sample(9, axis=1)"
   ]
  },
  {
   "cell_type": "code",
   "execution_count": 335,
   "metadata": {},
   "outputs": [
    {
     "data": {
      "text/html": [
       "<div>\n",
       "<style scoped>\n",
       "    .dataframe tbody tr th:only-of-type {\n",
       "        vertical-align: middle;\n",
       "    }\n",
       "\n",
       "    .dataframe tbody tr th {\n",
       "        vertical-align: top;\n",
       "    }\n",
       "\n",
       "    .dataframe thead th {\n",
       "        text-align: right;\n",
       "    }\n",
       "</style>\n",
       "<table border=\"1\" class=\"dataframe\">\n",
       "  <thead>\n",
       "    <tr style=\"text-align: right;\">\n",
       "      <th></th>\n",
       "      <th>857</th>\n",
       "      <th>989</th>\n",
       "      <th>3</th>\n",
       "      <th>848</th>\n",
       "      <th>773</th>\n",
       "      <th>1028</th>\n",
       "      <th>1159</th>\n",
       "      <th>1051</th>\n",
       "      <th>270</th>\n",
       "    </tr>\n",
       "  </thead>\n",
       "  <tbody>\n",
       "    <tr>\n",
       "      <th>0</th>\n",
       "      <td>0.0960</td>\n",
       "      <td>0.1333</td>\n",
       "      <td>0.0280</td>\n",
       "      <td>0.1156</td>\n",
       "      <td>0.2107</td>\n",
       "      <td>0.1077</td>\n",
       "      <td>0.1003</td>\n",
       "      <td>0.1560</td>\n",
       "      <td>0.3811</td>\n",
       "    </tr>\n",
       "    <tr>\n",
       "      <th>1</th>\n",
       "      <td>0.1308</td>\n",
       "      <td>0.1890</td>\n",
       "      <td>0.0291</td>\n",
       "      <td>0.1221</td>\n",
       "      <td>0.2472</td>\n",
       "      <td>0.1032</td>\n",
       "      <td>0.1276</td>\n",
       "      <td>0.1804</td>\n",
       "      <td>0.3419</td>\n",
       "    </tr>\n",
       "    <tr>\n",
       "      <th>2</th>\n",
       "      <td>0.1756</td>\n",
       "      <td>0.2128</td>\n",
       "      <td>0.0336</td>\n",
       "      <td>0.1501</td>\n",
       "      <td>0.4610</td>\n",
       "      <td>0.1622</td>\n",
       "      <td>0.1153</td>\n",
       "      <td>0.2027</td>\n",
       "      <td>0.3523</td>\n",
       "    </tr>\n",
       "    <tr>\n",
       "      <th>3</th>\n",
       "      <td>0.2177</td>\n",
       "      <td>0.1556</td>\n",
       "      <td>0.0244</td>\n",
       "      <td>0.1742</td>\n",
       "      <td>0.7127</td>\n",
       "      <td>0.1431</td>\n",
       "      <td>0.1434</td>\n",
       "      <td>0.1824</td>\n",
       "      <td>0.3588</td>\n",
       "    </tr>\n",
       "    <tr>\n",
       "      <th>4</th>\n",
       "      <td>0.2442</td>\n",
       "      <td>0.1740</td>\n",
       "      <td>0.0202</td>\n",
       "      <td>0.1552</td>\n",
       "      <td>0.6530</td>\n",
       "      <td>0.0745</td>\n",
       "      <td>0.1845</td>\n",
       "      <td>0.2859</td>\n",
       "      <td>0.3300</td>\n",
       "    </tr>\n",
       "  </tbody>\n",
       "</table>\n",
       "</div>"
      ],
      "text/plain": [
       "      857     989       3     848     773    1028    1159    1051     270\n",
       "0  0.0960  0.1333  0.0280  0.1156  0.2107  0.1077  0.1003  0.1560  0.3811\n",
       "1  0.1308  0.1890  0.0291  0.1221  0.2472  0.1032  0.1276  0.1804  0.3419\n",
       "2  0.1756  0.2128  0.0336  0.1501  0.4610  0.1622  0.1153  0.2027  0.3523\n",
       "3  0.2177  0.1556  0.0244  0.1742  0.7127  0.1431  0.1434  0.1824  0.3588\n",
       "4  0.2442  0.1740  0.0202  0.1552  0.6530  0.0745  0.1845  0.2859  0.3300"
      ]
     },
     "execution_count": 335,
     "metadata": {},
     "output_type": "execute_result"
    }
   ],
   "source": [
    "wind_sample.head()"
   ]
  },
  {
   "cell_type": "code",
   "execution_count": 428,
   "metadata": {},
   "outputs": [
    {
     "data": {
      "image/png": "[encoded data removed]",
      "text/plain": [
       "<Figure size 432x288 with 1 Axes>"
      ]
     },
     "metadata": {},
     "output_type": "display_data"
    }
   ],
   "source": [
    "adj = nx.to_numpy_array(net)\n",
    "nx.draw(net)"
   ]
  },
  {
   "cell_type": "code",
   "execution_count": 430,
   "metadata": {},
   "outputs": [
    {
     "name": "stdout",
     "output_type": "stream",
     "text": [
      "0\n"
     ]
    }
   ],
   "source": [
    "consensus_matrix = consensus(adj, wind_time.iloc[:24*20, :10], 3, method=0, data_format=\"pandas\", show=True)"
   ]
  },
  {
   "cell_type": "code",
   "execution_count": 431,
   "metadata": {},
   "outputs": [
    {
     "data": {
      "image/png": "[encoded data removed]",
      "text/plain": [
       "<Figure size 432x288 with 2 Axes>"
      ]
     },
     "metadata": {
      "needs_background": "light"
     },
     "output_type": "display_data"
    }
   ],
   "source": [
    "ax = sns.heatmap(consensus_matrix, linewidth=0.5)\n",
    "plt.show()"
   ]
  },
  {
   "cell_type": "code",
   "execution_count": 432,
   "metadata": {},
   "outputs": [],
   "source": [
    "clsrt = KMeans(n_clusters=3)\n",
    "predictions = clsrt.fit_predict(1 -consensus_matrix)"
   ]
  },
  {
   "cell_type": "code",
   "execution_count": 438,
   "metadata": {},
   "outputs": [
    {
     "data": {
      "text/plain": [
       "array([1, 0, 2, 1, 1, 2, 2, 0, 1], dtype=int32)"
      ]
     },
     "execution_count": 438,
     "metadata": {},
     "output_type": "execute_result"
    }
   ],
   "source": [
    "predictions"
   ]
  },
  {
   "cell_type": "code",
   "execution_count": 446,
   "metadata": {},
   "outputs": [],
   "source": [
    "pos = nx.spring_layout(net)\n",
    "for key in pos.keys():\n",
    "    net.node[key]['pos'] = pos[key]\n",
    "\n",
    "dmin=1\n",
    "ncenter=0\n",
    "for n in pos:\n",
    "    x,y=pos[n]\n",
    "    d=(x-0.5)**2+(y-0.5)**2\n",
    "    if d<dmin:\n",
    "        ncenter=n\n",
    "        dmin=d"
   ]
  },
  {
   "cell_type": "code",
   "execution_count": 503,
   "metadata": {},
   "outputs": [],
   "source": [
    "edge_trace = go.Scatter(\n",
    "    x=[],\n",
    "    y=[],\n",
    "    line=dict(width=0.5,color='#888'),\n",
    "    hoverinfo='none',\n",
    "    mode='lines')\n",
    "\n",
    "for edge in net.edges():\n",
    "    x0, y0 = net.node[edge[0]]['pos']\n",
    "    x1, y1 = net.node[edge[1]]['pos']\n",
    "    edge_trace['x'] += tuple([x0, x1, None])\n",
    "    edge_trace['y'] += tuple([y0, y1, None])\n",
    "\n",
    "node_trace = go.Scatter(\n",
    "    x=[],\n",
    "    y=[],\n",
    "    text=[],\n",
    "    mode='markers',\n",
    "    hoverinfo='text',\n",
    "    marker=dict(\n",
    "        showscale=True,\n",
    "        # colorscale options\n",
    "        #'Greys' | 'YlGnBu' | 'Greens' | 'YlOrRd' | 'Bluered' | 'RdBu' |\n",
    "        #'Reds' | 'Blues' | 'Picnic' | 'Rainbow' | 'Portland' | 'Jet' |\n",
    "        #'Hot' | 'Blackbody' | 'Earth' | 'Electric' | 'Viridis' |\n",
    "        colorscale='Hot',\n",
    "        reversescale=True,\n",
    "        color=[],\n",
    "        size=10,\n",
    "        colorbar=dict(\n",
    "            thickness=15,\n",
    "            title='Node cluster',\n",
    "            xanchor='left',\n",
    "            titleside='right'\n",
    "        ),\n",
    "        line=dict(width=2)))\n",
    "\n",
    "for node in net.nodes():\n",
    "    x, y = net.node[node]['pos']\n",
    "    node_trace['x'] += tuple([x])\n",
    "    node_trace['y'] += tuple([y])"
   ]
  },
  {
   "cell_type": "code",
   "execution_count": 504,
   "metadata": {},
   "outputs": [],
   "source": [
    "for node, adjacencies in enumerate(net.adjacency()):\n",
    "    node_trace['marker']['color']+=tuple([np.exp(predictions[node])])\n",
    "    node_info = 'cluster: '+str(predictions[node] + 1) + \" node: \" + str(node+1)\n",
    "    node_trace['text']+=tuple([node_info]) "
   ]
  },
  {
   "cell_type": "code",
   "execution_count": 505,
   "metadata": {},
   "outputs": [
    {
     "data": {
      "text/plain": [
       "1"
      ]
     },
     "execution_count": 505,
     "metadata": {},
     "output_type": "execute_result"
    }
   ],
   "source": [
    "predictions[node]"
   ]
  },
  {
   "cell_type": "code",
   "execution_count": 506,
   "metadata": {},
   "outputs": [
    {
     "data": {
      "text/plain": [
       "2"
      ]
     },
     "execution_count": 506,
     "metadata": {},
     "output_type": "execute_result"
    }
   ],
   "source": [
    "predictions[node] + 1"
   ]
  },
  {
   "cell_type": "code",
   "execution_count": 508,
   "metadata": {
    "scrolled": false
   },
   "outputs": [
    {
     "data": {
      "application/vnd.plotly.v1+json": {
       "config": {
        "linkText": "Export to plot.ly",
        "plotlyServerURL": "https://plot.ly",
        "showLink": false
       },
       "data": [
        {
         "hoverinfo": "none",
         "line": {
          "color": "#888",
          "width": 0.5
         },
         "mode": "lines",
         "type": "scatter",
         "uid": "2809deb4-0c16-402c-9f62-31bf6eaaf2dd",
         "x": [
          -1,
          -0.5448779656828263,
          null,
          0.3275564412052775,
          0.17919670491862932,
          null,
          0.6715043473619909,
          0.36472861822345903,
          null,
          -0.5448779656828263,
          -0.13741126224549496,
          null,
          -0.5448779656828263,
          -0.27947689454369423,
          null,
          -0.13741126224549496,
          0.36472861822345903,
          null,
          0.36472861822345903,
          0.41878001076265864,
          null,
          0.41878001076265864,
          0.17919670491862932,
          null,
          0.17919670491862932,
          -0.27947689454369423,
          null
         ],
         "y": [
          -0.190225586815699,
          -0.10492289134010008,
          null,
          0.9627465197051313,
          0.5238522594246725,
          null,
          -0.7704724964269268,
          -0.42090056308873397,
          null,
          -0.10492289134010008,
          -0.4025847211519461,
          null,
          -0.10492289134010008,
          0.32320600569775576,
          null,
          -0.4025847211519461,
          -0.42090056308873397,
          null,
          -0.42090056308873397,
          0.07930147399584647,
          null,
          0.07930147399584647,
          0.5238522594246725,
          null,
          0.5238522594246725,
          0.32320600569775576,
          null
         ]
        },
        {
         "hoverinfo": "text",
         "marker": {
          "color": [
           2.718281828459045,
           1,
           7.38905609893065,
           2.718281828459045,
           2.718281828459045,
           7.38905609893065,
           7.38905609893065,
           1,
           2.718281828459045
          ],
          "colorbar": {
           "thickness": 15,
           "title": {
            "side": "right",
            "text": "Node cluster"
           },
           "xanchor": "left"
          },
          "colorscale": "Hot",
          "line": {
           "width": 2
          },
          "reversescale": true,
          "showscale": true,
          "size": 10
         },
         "mode": "markers",
         "text": [
          "cluster: 2 node: 1",
          "cluster: 1 node: 2",
          "cluster: 3 node: 3",
          "cluster: 2 node: 4",
          "cluster: 2 node: 5",
          "cluster: 3 node: 6",
          "cluster: 3 node: 7",
          "cluster: 1 node: 8",
          "cluster: 2 node: 9"
         ],
         "type": "scatter",
         "uid": "19f3cd2e-603d-45bd-8d91-b8eb2ec13c30",
         "x": [
          -1,
          0.3275564412052775,
          0.6715043473619909,
          -0.5448779656828263,
          -0.13741126224549496,
          0.36472861822345903,
          0.41878001076265864,
          0.17919670491862932,
          -0.27947689454369423
         ],
         "y": [
          -0.190225586815699,
          0.9627465197051313,
          -0.7704724964269268,
          -0.10492289134010008,
          -0.4025847211519461,
          -0.42090056308873397,
          0.07930147399584647,
          0.5238522594246725,
          0.32320600569775576
         ]
        }
       ],
       "layout": {
        "annotations": [
         {
          "showarrow": false,
          "text": "",
          "x": 0.005,
          "xref": "paper",
          "y": -0.002,
          "yref": "paper"
         }
        ],
        "hovermode": "closest",
        "margin": {
         "b": 20,
         "l": 5,
         "r": 5,
         "t": 40
        },
        "showlegend": false,
        "title": {
         "font": {
          "size": 16
         },
         "text": "<br>9 Busses example"
        },
        "xaxis": {
         "showgrid": false,
         "showticklabels": false,
         "zeroline": false
        },
        "yaxis": {
         "showgrid": false,
         "showticklabels": false,
         "zeroline": false
        }
       }
      },
      "text/html": [
       "<div id=\"a7cd6b23-9f32-4c2b-81fa-cd30dbdd67ae\" style=\"height: 525px; width: 100%;\" class=\"plotly-graph-div\"></div><script type=\"text/javascript\">require([\"plotly\"], function(Plotly) { window.PLOTLYENV=window.PLOTLYENV || {};window.PLOTLYENV.BASE_URL=\"https://plot.ly\";Plotly.newPlot(\"a7cd6b23-9f32-4c2b-81fa-cd30dbdd67ae\", [{\"hoverinfo\": \"none\", \"line\": {\"color\": \"#888\", \"width\": 0.5}, \"mode\": \"lines\", \"x\": [-1.0, -0.5448779656828263, null, 0.3275564412052775, 0.17919670491862932, null, 0.6715043473619909, 0.36472861822345903, null, -0.5448779656828263, -0.13741126224549496, null, -0.5448779656828263, -0.27947689454369423, null, -0.13741126224549496, 0.36472861822345903, null, 0.36472861822345903, 0.41878001076265864, null, 0.41878001076265864, 0.17919670491862932, null, 0.17919670491862932, -0.27947689454369423, null], \"y\": [-0.190225586815699, -0.10492289134010008, null, 0.9627465197051313, 0.5238522594246725, null, -0.7704724964269268, -0.42090056308873397, null, -0.10492289134010008, -0.4025847211519461, null, -0.10492289134010008, 0.32320600569775576, null, -0.4025847211519461, -0.42090056308873397, null, -0.42090056308873397, 0.07930147399584647, null, 0.07930147399584647, 0.5238522594246725, null, 0.5238522594246725, 0.32320600569775576, null], \"type\": \"scatter\", \"uid\": \"2809deb4-0c16-402c-9f62-31bf6eaaf2dd\"}, {\"hoverinfo\": \"text\", \"marker\": {\"color\": [2.718281828459045, 1.0, 7.38905609893065, 2.718281828459045, 2.718281828459045, 7.38905609893065, 7.38905609893065, 1.0, 2.718281828459045], \"colorbar\": {\"thickness\": 15, \"title\": {\"side\": \"right\", \"text\": \"Node cluster\"}, \"xanchor\": \"left\"}, \"colorscale\": \"Hot\", \"line\": {\"width\": 2}, \"reversescale\": true, \"showscale\": true, \"size\": 10}, \"mode\": \"markers\", \"text\": [\"cluster: 2 node: 1\", \"cluster: 1 node: 2\", \"cluster: 3 node: 3\", \"cluster: 2 node: 4\", \"cluster: 2 node: 5\", \"cluster: 3 node: 6\", \"cluster: 3 node: 7\", \"cluster: 1 node: 8\", \"cluster: 2 node: 9\"], \"x\": [-1.0, 0.3275564412052775, 0.6715043473619909, -0.5448779656828263, -0.13741126224549496, 0.36472861822345903, 0.41878001076265864, 0.17919670491862932, -0.27947689454369423], \"y\": [-0.190225586815699, 0.9627465197051313, -0.7704724964269268, -0.10492289134010008, -0.4025847211519461, -0.42090056308873397, 0.07930147399584647, 0.5238522594246725, 0.32320600569775576], \"type\": \"scatter\", \"uid\": \"19f3cd2e-603d-45bd-8d91-b8eb2ec13c30\"}], {\"annotations\": [{\"showarrow\": false, \"text\": \"\", \"x\": 0.005, \"xref\": \"paper\", \"y\": -0.002, \"yref\": \"paper\"}], \"hovermode\": \"closest\", \"margin\": {\"b\": 20, \"l\": 5, \"r\": 5, \"t\": 40}, \"showlegend\": false, \"title\": {\"font\": {\"size\": 16}, \"text\": \"<br>9 Busses example\"}, \"xaxis\": {\"showgrid\": false, \"showticklabels\": false, \"zeroline\": false}, \"yaxis\": {\"showgrid\": false, \"showticklabels\": false, \"zeroline\": false}}, {\"showLink\": false, \"linkText\": \"Export to plot.ly\", \"plotlyServerURL\": \"https://plot.ly\"})});</script><script type=\"text/javascript\">window.addEventListener(\"resize\", function(){window._Plotly.Plots.resize(document.getElementById(\"a7cd6b23-9f32-4c2b-81fa-cd30dbdd67ae\"));});</script>"
      ],
      "text/vnd.plotly.v1+html": [
       "<div id=\"a7cd6b23-9f32-4c2b-81fa-cd30dbdd67ae\" style=\"height: 525px; width: 100%;\" class=\"plotly-graph-div\"></div><script type=\"text/javascript\">require([\"plotly\"], function(Plotly) { window.PLOTLYENV=window.PLOTLYENV || {};window.PLOTLYENV.BASE_URL=\"https://plot.ly\";Plotly.newPlot(\"a7cd6b23-9f32-4c2b-81fa-cd30dbdd67ae\", [{\"hoverinfo\": \"none\", \"line\": {\"color\": \"#888\", \"width\": 0.5}, \"mode\": \"lines\", \"x\": [-1.0, -0.5448779656828263, null, 0.3275564412052775, 0.17919670491862932, null, 0.6715043473619909, 0.36472861822345903, null, -0.5448779656828263, -0.13741126224549496, null, -0.5448779656828263, -0.27947689454369423, null, -0.13741126224549496, 0.36472861822345903, null, 0.36472861822345903, 0.41878001076265864, null, 0.41878001076265864, 0.17919670491862932, null, 0.17919670491862932, -0.27947689454369423, null], \"y\": [-0.190225586815699, -0.10492289134010008, null, 0.9627465197051313, 0.5238522594246725, null, -0.7704724964269268, -0.42090056308873397, null, -0.10492289134010008, -0.4025847211519461, null, -0.10492289134010008, 0.32320600569775576, null, -0.4025847211519461, -0.42090056308873397, null, -0.42090056308873397, 0.07930147399584647, null, 0.07930147399584647, 0.5238522594246725, null, 0.5238522594246725, 0.32320600569775576, null], \"type\": \"scatter\", \"uid\": \"2809deb4-0c16-402c-9f62-31bf6eaaf2dd\"}, {\"hoverinfo\": \"text\", \"marker\": {\"color\": [2.718281828459045, 1.0, 7.38905609893065, 2.718281828459045, 2.718281828459045, 7.38905609893065, 7.38905609893065, 1.0, 2.718281828459045], \"colorbar\": {\"thickness\": 15, \"title\": {\"side\": \"right\", \"text\": \"Node cluster\"}, \"xanchor\": \"left\"}, \"colorscale\": \"Hot\", \"line\": {\"width\": 2}, \"reversescale\": true, \"showscale\": true, \"size\": 10}, \"mode\": \"markers\", \"text\": [\"cluster: 2 node: 1\", \"cluster: 1 node: 2\", \"cluster: 3 node: 3\", \"cluster: 2 node: 4\", \"cluster: 2 node: 5\", \"cluster: 3 node: 6\", \"cluster: 3 node: 7\", \"cluster: 1 node: 8\", \"cluster: 2 node: 9\"], \"x\": [-1.0, 0.3275564412052775, 0.6715043473619909, -0.5448779656828263, -0.13741126224549496, 0.36472861822345903, 0.41878001076265864, 0.17919670491862932, -0.27947689454369423], \"y\": [-0.190225586815699, 0.9627465197051313, -0.7704724964269268, -0.10492289134010008, -0.4025847211519461, -0.42090056308873397, 0.07930147399584647, 0.5238522594246725, 0.32320600569775576], \"type\": \"scatter\", \"uid\": \"19f3cd2e-603d-45bd-8d91-b8eb2ec13c30\"}], {\"annotations\": [{\"showarrow\": false, \"text\": \"\", \"x\": 0.005, \"xref\": \"paper\", \"y\": -0.002, \"yref\": \"paper\"}], \"hovermode\": \"closest\", \"margin\": {\"b\": 20, \"l\": 5, \"r\": 5, \"t\": 40}, \"showlegend\": false, \"title\": {\"font\": {\"size\": 16}, \"text\": \"<br>9 Busses example\"}, \"xaxis\": {\"showgrid\": false, \"showticklabels\": false, \"zeroline\": false}, \"yaxis\": {\"showgrid\": false, \"showticklabels\": false, \"zeroline\": false}}, {\"showLink\": false, \"linkText\": \"Export to plot.ly\", \"plotlyServerURL\": \"https://plot.ly\"})});</script><script type=\"text/javascript\">window.addEventListener(\"resize\", function(){window._Plotly.Plots.resize(document.getElementById(\"a7cd6b23-9f32-4c2b-81fa-cd30dbdd67ae\"));});</script>"
      ]
     },
     "metadata": {},
     "output_type": "display_data"
    }
   ],
   "source": [
    "fig = go.Figure(data=[edge_trace, node_trace],\n",
    "             layout=go.Layout(\n",
    "                title='<br>9 Busses example',\n",
    "                titlefont=dict(size=16),\n",
    "                showlegend=False,\n",
    "                hovermode='closest',\n",
    "                margin=dict(b=20,l=5,r=5,t=40),\n",
    "                annotations=[ dict(\n",
    "                    text=\"\",\n",
    "                    showarrow=False,\n",
    "                    xref=\"paper\", yref=\"paper\",\n",
    "                    x=0.005, y=-0.002 ) ],\n",
    "                xaxis=dict(showgrid=False, zeroline=False, showticklabels=False),\n",
    "                yaxis=dict(showgrid=False, zeroline=False, showticklabels=False)))\n",
    "\n",
    "iplot(fig, filename='networkx')"
   ]
  },
  {
   "cell_type": "code",
   "execution_count": 454,
   "metadata": {},
   "outputs": [
    {
     "data": {
      "image/png": "[encoded data removed]",
      "text/plain": [
       "<Figure size 432x288 with 1 Axes>"
      ]
     },
     "metadata": {
      "needs_background": "light"
     },
     "output_type": "display_data"
    },
    {
     "data": {
      "image/png": "[encoded data removed]",
      "text/plain": [
       "<Figure size 432x288 with 1 Axes>"
      ]
     },
     "metadata": {
      "needs_background": "light"
     },
     "output_type": "display_data"
    },
    {
     "data": {
      "image/png": "[encoded data removed]",
      "text/plain": [
       "<Figure size 432x288 with 1 Axes>"
      ]
     },
     "metadata": {
      "needs_background": "light"
     },
     "output_type": "display_data"
    },
    {
     "data": {
      "image/png": "[encoded data removed]",
      "text/plain": [
       "<Figure size 432x288 with 1 Axes>"
      ]
     },
     "metadata": {
      "needs_background": "light"
     },
     "output_type": "display_data"
    },
    {
     "data": {
      "image/png": "[encoded data removed]",
      "text/plain": [
       "<Figure size 432x288 with 1 Axes>"
      ]
     },
     "metadata": {
      "needs_background": "light"
     },
     "output_type": "display_data"
    },
    {
     "data": {
      "image/png": "[encoded data removed]",
      "text/plain": [
       "<Figure size 432x288 with 1 Axes>"
      ]
     },
     "metadata": {
      "needs_background": "light"
     },
     "output_type": "display_data"
    },
    {
     "data": {
      "image/png": "[encoded data removed]",
      "text/plain": [
       "<Figure size 432x288 with 1 Axes>"
      ]
     },
     "metadata": {
      "needs_background": "light"
     },
     "output_type": "display_data"
    },
    {
     "data": {
      "image/png": "[encoded data removed]",
      "text/plain": [
       "<Figure size 432x288 with 1 Axes>"
      ]
     },
     "metadata": {
      "needs_background": "light"
     },
     "output_type": "display_data"
    },
    {
     "data": {
      "image/png": "[encoded data removed]",
      "text/plain": [
       "<Figure size 432x288 with 1 Axes>"
      ]
     },
     "metadata": {
      "needs_background": "light"
     },
     "output_type": "display_data"
    }
   ],
   "source": [
    "for i in range(1, 10):\n",
    "    plt.plot(wind_time.iloc[:24*20, i])\n",
    "    print(wind_time)\n",
    "    plt.show()"
   ]
  },
  {
   "cell_type": "code",
   "execution_count": 466,
   "metadata": {},
   "outputs": [],
   "source": [
    "means = [ wind_time.iloc[24*19:24*20, i].mean() for i in range(1, 10)]"
   ]
  },
  {
   "cell_type": "code",
   "execution_count": 465,
   "metadata": {},
   "outputs": [
    {
     "data": {
      "text/plain": [
       "456    0.0151\n",
       "457    0.0132\n",
       "458    0.0126\n",
       "459    0.0141\n",
       "460    0.0164\n",
       "461    0.0189\n",
       "462    0.0129\n",
       "463    0.0130\n",
       "464    0.0143\n",
       "465    0.0202\n",
       "466    0.0348\n",
       "467    0.0857\n",
       "468    0.1103\n",
       "469    0.1277\n",
       "470    0.0980\n",
       "471    0.1132\n",
       "472    0.1377\n",
       "473    0.2154\n",
       "474    0.2014\n",
       "475    0.1888\n",
       "476    0.1730\n",
       "477    0.1577\n",
       "478    0.1558\n",
       "479    0.1389\n",
       "Name: 10, dtype: float64"
      ]
     },
     "execution_count": 465,
     "metadata": {},
     "output_type": "execute_result"
    }
   ],
   "source": [
    "wind_time.iloc[24*19:24*20, 10]"
   ]
  }
 ],
 "metadata": {
  "kernelspec": {
   "display_name": "Python 3",
   "language": "python",
   "name": "python3"
  },
  "language_info": {
   "codemirror_mode": {
    "name": "ipython",
    "version": 3
   },
   "file_extension": ".py",
   "mimetype": "text/x-python",
   "name": "python",
   "nbconvert_exporter": "python",
   "pygments_lexer": "ipython3",
   "version": "3.7.1"
  }
 },
 "nbformat": 4,
 "nbformat_minor": 2
}
